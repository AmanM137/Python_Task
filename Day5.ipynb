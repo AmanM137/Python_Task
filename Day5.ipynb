{
 "cells": [
  {
   "cell_type": "markdown",
   "id": "82129432",
   "metadata": {},
   "source": [
    "## Day-5 Task:"
   ]
  },
  {
   "cell_type": "markdown",
   "id": "eda134b2",
   "metadata": {},
   "source": [
    "**What is difference between shallow copy and deep copy?**\n",
    "\n",
    "       A shallow copy constructs a new compound object and then (to the extent possible) inserts references into it to the \n",
    "       objects found in the original.\n",
    "       A deep copy constructs a new compound object and then, recursively, inserts copies into it of the objects found in\n",
    "       the original."
   ]
  },
  {
   "cell_type": "markdown",
   "id": "59a61437",
   "metadata": {},
   "source": [
    "**You want to create a library management application, you need to store data about books, students in your program, how will you store data inside python using list? Create some lists with fake data to store information about library management.**\n",
    "\n",
    "      "
   ]
  },
  {
   "cell_type": "code",
   "execution_count": 4,
   "id": "b9c78745",
   "metadata": {},
   "outputs": [
    {
     "name": "stdout",
     "output_type": "stream",
     "text": [
      "Laibrary Management:\n",
      "Books: ['wings of fire', 'Aghori', 'The Hidden Hindu', 'Shiva Triology']\n",
      "Student's Roll No.: [2106176, 2106177, 2106180, 2106183, 2106186, 2106188]\n"
     ]
    }
   ],
   "source": [
    "print(\"Laibrary Management:\")\n",
    "books=['wings of fire','Aghori','The Hidden Hindu','Shiva Triology']\n",
    "students_roll=[2106176,2106177,2106180,2106183,2106186,2106188]\n",
    "print(f\"Books: {books}\")\n",
    "print(f\"Student's Roll No.: {students_roll}\")"
   ]
  },
  {
   "cell_type": "markdown",
   "id": "c085e3fc",
   "metadata": {},
   "source": [
    "**This chapter introduced assignment statements, like spam = 10. What is the difference between an expression and a statement?**\n",
    "\n",
    "        Expressions only contain identifiers, literals and operators, where operators include arithmetic and boolean\n",
    "        operators, the function call operator () and similar, and can be reduced to some kind of \"value\", which can be any\n",
    "        Python object.\n",
    "        Statements on the other hand, are everything that can make up a line (or several lines) of Python code. Note that\n",
    "        expressions are statements as well."
   ]
  },
  {
   "cell_type": "markdown",
   "id": "608aacda",
   "metadata": {},
   "source": [
    "**Define following:** \n",
    "\n",
    "        a) Atomic data types / Primary data types --> A primitive data type is either a data type that is built into a\n",
    "           programming language, or one that could be characterized as a basic structure for building more sophisticated\n",
    "           data types.\n",
    "\n",
    "        b) Secondary data type / User Defined Data Type --> A user-defined data type is a data type that is defined by the\n",
    "           programmer rather than being built into the programming language. It allows programmers to create their own data\n",
    "           types that are tailored to the specific needs of their programs."
   ]
  },
  {
   "cell_type": "markdown",
   "id": "226d0a97",
   "metadata": {},
   "source": [
    "**What is UDF?**\n",
    "\n",
    "        UDF stands for User-Defined Function. An UDF is a function that is created by the user rather than being built into\n",
    "        the programming language. A UDF allows the programmer to create custom functions that perform specific tasks, which\n",
    "        can be used repeatedly in a program."
   ]
  },
  {
   "cell_type": "code",
   "execution_count": null,
   "id": "3066b62e",
   "metadata": {},
   "outputs": [],
   "source": []
  }
 ],
 "metadata": {
  "kernelspec": {
   "display_name": "Python 3 (ipykernel)",
   "language": "python",
   "name": "python3"
  },
  "language_info": {
   "codemirror_mode": {
    "name": "ipython",
    "version": 3
   },
   "file_extension": ".py",
   "mimetype": "text/x-python",
   "name": "python",
   "nbconvert_exporter": "python",
   "pygments_lexer": "ipython3",
   "version": "3.10.9"
  }
 },
 "nbformat": 4,
 "nbformat_minor": 5
}
