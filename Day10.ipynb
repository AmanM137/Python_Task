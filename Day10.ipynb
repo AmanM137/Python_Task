{
 "cells": [
  {
   "cell_type": "markdown",
   "id": "ccac1251",
   "metadata": {},
   "source": [
    "## Day-10 Task:"
   ]
  },
  {
   "cell_type": "markdown",
   "id": "11d4870c",
   "metadata": {},
   "source": [
    "**Python Program to Check Palindrome Number**"
   ]
  },
  {
   "cell_type": "code",
   "execution_count": 8,
   "id": "88c08eaf",
   "metadata": {},
   "outputs": [
    {
     "name": "stdout",
     "output_type": "stream",
     "text": [
      "Enter a no.: 122\n",
      "NOT PALINDROME\n"
     ]
    }
   ],
   "source": [
    "n=input(\"Enter a no.: \")\n",
    "if(n==n[::-1]):\n",
    "    print(\"PALINDROME\")\n",
    "else:\n",
    "    print(\"NOT PALINDROME\")"
   ]
  },
  {
   "cell_type": "markdown",
   "id": "ec21ba55",
   "metadata": {},
   "source": [
    "**Python Program to Print all multiples of 3 and 5 in an Interval**"
   ]
  },
  {
   "cell_type": "code",
   "execution_count": 9,
   "id": "3b39ff92",
   "metadata": {},
   "outputs": [
    {
     "name": "stdout",
     "output_type": "stream",
     "text": [
      "Enter the range: \n",
      "Start:2\n",
      "End:15\n",
      "3\n",
      "5\n",
      "6\n",
      "9\n",
      "10\n",
      "12\n",
      "15\n"
     ]
    }
   ],
   "source": [
    "print(\"Enter the range: \")\n",
    "start=int(input(\"Start:\"))\n",
    "end=int(input(\"End:\"))\n",
    "for end in range(start,end+1):\n",
    "    if(end%3==0):\n",
    "        print(end)\n",
    "    elif(end%5==0):\n",
    "        print(end)"
   ]
  },
  {
   "cell_type": "markdown",
   "id": "d09eb438",
   "metadata": {},
   "source": [
    "**Python Program to Find the Factorial of a Number**"
   ]
  },
  {
   "cell_type": "code",
   "execution_count": 10,
   "id": "ddf70005",
   "metadata": {},
   "outputs": [
    {
     "name": "stdout",
     "output_type": "stream",
     "text": [
      "Enter a no.: 4\n",
      "Factorial of 4= 24\n"
     ]
    }
   ],
   "source": [
    "n=int(input(\"Enter a no.: \"))\n",
    "fact=1\n",
    "for n in range(2,n+1):\n",
    "    fact*=n\n",
    "print(f\"Factorial of {n}= {fact}\")"
   ]
  },
  {
   "cell_type": "markdown",
   "id": "90bfbb7b",
   "metadata": {},
   "source": [
    "**Python Program to Print the Fibonacci sequence**"
   ]
  },
  {
   "cell_type": "code",
   "execution_count": 11,
   "id": "9d31dfab",
   "metadata": {},
   "outputs": [
    {
     "name": "stdout",
     "output_type": "stream",
     "text": [
      "Enter the no. of terms you want to print: 7\n",
      "Fibonacci Series upto 7 terms:\n",
      "0\n",
      "1\n",
      "1\n",
      "2\n",
      "3\n",
      "5\n",
      "8\n"
     ]
    }
   ],
   "source": [
    "n=int(input(\"Enter the no. of terms you want to print: \"))\n",
    "a=0\n",
    "b=1\n",
    "count=0\n",
    "print(f\"Fibonacci Series upto {n} terms:\")\n",
    "while count<n:\n",
    "    print(a)\n",
    "    c=a+b\n",
    "    a=b\n",
    "    b=c\n",
    "    count+=1"
   ]
  },
  {
   "cell_type": "markdown",
   "id": "30f4cbe9",
   "metadata": {},
   "source": [
    "**Python Program to Check Armstrong Number**"
   ]
  },
  {
   "cell_type": "code",
   "execution_count": 17,
   "id": "2d283646",
   "metadata": {},
   "outputs": [
    {
     "name": "stdout",
     "output_type": "stream",
     "text": [
      "Enter the no.: 153\n",
      "ARMSTRONG\n"
     ]
    }
   ],
   "source": [
    "number=input(\"Enter the no.: \")\n",
    "l=len(number)\n",
    "n=int(number)\n",
    "arm=0\n",
    "for _ in range(l):\n",
    "    arm+=(n%10)**l\n",
    "    n//=10\n",
    "if(arm==int(number)):\n",
    "    print(\"ARMSTRONG\")\n",
    "else:\n",
    "    print(\"NOT ARMSTRONG\")"
   ]
  }
 ],
 "metadata": {
  "kernelspec": {
   "display_name": "Python 3 (ipykernel)",
   "language": "python",
   "name": "python3"
  },
  "language_info": {
   "codemirror_mode": {
    "name": "ipython",
    "version": 3
   },
   "file_extension": ".py",
   "mimetype": "text/x-python",
   "name": "python",
   "nbconvert_exporter": "python",
   "pygments_lexer": "ipython3",
   "version": "3.10.9"
  }
 },
 "nbformat": 4,
 "nbformat_minor": 5
}
