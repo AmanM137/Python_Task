{
 "cells": [
  {
   "cell_type": "markdown",
   "id": "f5eac0af",
   "metadata": {},
   "source": [
    "## Day-12 Task:"
   ]
  },
  {
   "cell_type": "markdown",
   "id": "4d9b3c19",
   "metadata": {},
   "source": [
    "**Write a code to implement Guess Game Guess Game**\n",
    "\n",
    "**constraints / Rules:**\n",
    "       \n",
    "       you have 5 chance to guess correct number which is choosen by computer / friend \n",
    "       Range which is allowed to select a number 1-50 \n",
    "       After each guess you should give some tips / hints to user to improve their chance of winning \n",
    "       \n",
    "       for example if user guess a number which is higher than actual number you should say \n",
    "       `hint: think a low number! if user guess a number which is lower than actual number you should say `hint: think a big number!` \n",
    "       if user wins we will show a congrats messege and stop our game \n",
    "       if any time user guess is out of limit than print a warning message saying Think in Limits 1-50 only!"
   ]
  },
  {
   "cell_type": "code",
   "execution_count": 6,
   "id": "96eb1196",
   "metadata": {},
   "outputs": [
    {
     "name": "stdout",
     "output_type": "stream",
     "text": [
      "\t WELCOME TO GUESS GAME\n",
      "----------------------------------------\n",
      "What you want to play:\n",
      " 1)Player vs Computer\n",
      " 2)Player vs Friend\n",
      "Enter your choice: 1\n",
      "\n",
      "Computer chosing a no....\n",
      "\n",
      "Now it's your turn to guess the number chosed by Computer.\n",
      "Enter your guess: 24\n",
      "`hint: think a big number!`\t\t\t(guess left:4)\n",
      "Enter your guess: 34\n",
      "`hint: think a big number!`\t\t\t(guess left:3)\n",
      "Enter your guess: 44\n",
      "`hint: think a big number!`\t\t\t(guess left:2)\n",
      "Enter your guess: 47\n",
      "`hint: think a big number!`\t\t\t(guess left:1)\n",
      "Enter your guess: 49\n",
      "\n",
      "Congratulations! You successfully guessed the number.\n",
      "\t\"YOU WIN THE GAME\"\n"
     ]
    }
   ],
   "source": [
    "import random\n",
    "print(\"\\t WELCOME TO GUESS GAME\")\n",
    "print(\"-\"*40)\n",
    "choice=int(input(\"What you want to play:\\n 1)Player vs Computer\\n 2)Player vs Friend\\nEnter your choice: \"))\n",
    "s=\"\"\n",
    "if(choice==1):\n",
    "    number2=random.randint(1,50)\n",
    "    print(\"\\nComputer chosing a no....\")\n",
    "    s=\"Computer\"\n",
    "    \n",
    "elif(choice==2):\n",
    "    number2=int(input(\"Friend enter your number (between 1 to 50): \"))\n",
    "    s=\"Friend\"\n",
    "    \n",
    "print(f\"\\nNow it's your turn to guess the number chosed by {s}.\")\n",
    "i=5\n",
    "while True:\n",
    "    if(i==0):\n",
    "        print(f\"\\nYou left with 0 turn.\\n You are unable to guess the number chosed by {s} that is {number2}.\\n\\t\\\"{s} WINS THE GAME\\\"\")\n",
    "        break\n",
    "        \n",
    "    number1=int(input(\"Enter your guess: \"))\n",
    "    if(number1==number2):\n",
    "        print(\"\\nCongratulations! You successfully guessed the number.\\n\\t\\\"YOU WIN THE GAME\\\"\")\n",
    "        break\n",
    "    elif(number1<number2):\n",
    "        print(f\"`hint: think a big number!`\\t\\t\\t(guess left:{i-1})\")\n",
    "    elif(number1>number2):\n",
    "        print(f\"`hint: think a low number!`\\t\\t\\t(guess left:{i-1})\")\n",
    "    elif(number1<0 or number1>50):\n",
    "        print(f\"`Think in Limits 1-50 only!`\\t\\t\\t(guess left:{i-1})\")\n",
    "    i-=1"
   ]
  },
  {
   "cell_type": "markdown",
   "id": "7e50a7b4",
   "metadata": {},
   "source": [
    "**Let's learn about list comprehensions! You are given three integers x, y and z representing the dimensions of a cuboid along with an integer n. Print a list of all possible coordinates given by (i,j,k) on a 3D grid where the sum of i+j+k is not equal to n. Here, 0 ≤ i ≤ x, 0 ≤ j ≤ y, 0 ≤ k ≤ z. Please use list comprehensions rather than multiple loops, as a learning exercise.**"
   ]
  },
  {
   "cell_type": "code",
   "execution_count": 3,
   "id": "e0550a0c",
   "metadata": {},
   "outputs": [
    {
     "name": "stdout",
     "output_type": "stream",
     "text": [
      "Enter value of x: 1\n",
      "Enter value of y: 1\n",
      "Enter value of z: 2\n",
      "Enter the value of n: 3\n",
      "The coordinates are:\n",
      "[[0, 0, 0], [0, 0, 1], [0, 0, 2], [0, 1, 0], [0, 1, 1], [1, 0, 0], [1, 0, 1], [1, 1, 0], [1, 1, 2]]\n"
     ]
    }
   ],
   "source": [
    "x=int(input(\"Enter value of x: \"))\n",
    "y=int(input(\"Enter value of y: \"))\n",
    "z=int(input(\"Enter value of z: \"))\n",
    "n=int(input(\"Enter the value of n: \"))\n",
    "cordinates=[[i,j,k] for i in range(x+1) for j in range(y+1) for k in range(z+1) if i+j+k!=n]\n",
    "print(\"The coordinates are:\")\n",
    "print(cordinates)"
   ]
  },
  {
   "cell_type": "markdown",
   "id": "2c2582bd",
   "metadata": {},
   "source": [
    "**Consider a list (list = []). You can perform the following commands:**<br>\n",
    "**1) insert i e: Insert integer e at position i.**<br>\n",
    "**2) print: Print the list.**<br>\n",
    "**3) remove e: Delete the first occurrence of integer e.**<br>\n",
    "**4) append e: Insert integer e at the end of the list.**<br>\n",
    "**5) sort: Sort the list.**<br>\n",
    "**6) pop: Pop the last element from the list.**<br>\n",
    "**7) reverse: Reverse the list.**<br>\n",
    "**Initialize your list and read in the value of n followed by n lines of commands where each command will be of the y types listed above. Iterate through each command in order and perform the corresponding operation on your list.**"
   ]
  },
  {
   "cell_type": "code",
   "execution_count": 4,
   "id": "851265b9",
   "metadata": {},
   "outputs": [
    {
     "name": "stdout",
     "output_type": "stream",
     "text": [
      "Enter no. of commands you want to enter4\n",
      "Enter your commands:\n",
      "append 1\n",
      "append 2\n",
      "insert 3 1\n",
      "print\n",
      "[1, 2, 1]\n"
     ]
    }
   ],
   "source": [
    "n=int(input(\"Enter no. of commands you want to enter\"))\n",
    "l=[]\n",
    "commands=[]\n",
    "i=0\n",
    "print(\"Enter your commands:\")\n",
    "while i<n:\n",
    "    entry=input().split()\n",
    "    commands.append(entry)\n",
    "    i+=1\n",
    "i=0\n",
    "while i<n:\n",
    "    rc=commands[i][0]\n",
    "    if rc=='insert':\n",
    "        l.insert(int(commands[i][1]),int(commands[i][2]))\n",
    "    elif rc=='print':\n",
    "        print(l)\n",
    "    elif rc=='remove':\n",
    "        l.remove(int(commands[i][1]))\n",
    "    elif rc=='append':\n",
    "        l.append(int(commands[i][1]))\n",
    "    elif rc=='sort':\n",
    "        l.sort()\n",
    "    elif rc=='pop':\n",
    "        l.pop()\n",
    "    elif rc=='reverse':\n",
    "        l.reverse()\n",
    "    i+=1"
   ]
  },
  {
   "cell_type": "code",
   "execution_count": 6,
   "id": "49c04ae9",
   "metadata": {},
   "outputs": [
    {
     "name": "stdout",
     "output_type": "stream",
     "text": [
      "['20']\n"
     ]
    }
   ],
   "source": [
    "l=[\"Marks\",\"20\"]\n",
    "l.reverse()\n",
    "l.pop()\n",
    "print(l)"
   ]
  },
  {
   "cell_type": "markdown",
   "id": "604d4a16",
   "metadata": {},
   "source": [
    "**The provided code stub will read in a dictionary containing key/value pairs of name:[marks] for a list of students. Print the average of the marks array for the student name provided, showing 2 places after the decimal.**<br><br>\n",
    "**Sample Input:**<br>\n",
    "  3<br>\n",
    "  Krishna 67 68 69<br>\n",
    "  Arjun 70 98 63<br>\n",
    "  Malika 52 56 60<br>\n",
    "  Malika<br><br>\n",
    "**Sample Output:**<br>\n",
    "  56.00"
   ]
  },
  {
   "cell_type": "code",
   "execution_count": 15,
   "id": "17ed3068",
   "metadata": {},
   "outputs": [
    {
     "name": "stdout",
     "output_type": "stream",
     "text": [
      "Enter the no. of student records you want to enter: 3\n",
      "Enter the records\n",
      "Krishna 67 68 69\n",
      "Arjun 70 98 63\n",
      "Malika 52 56 60\n",
      "Enter the key: Malika\n",
      "Avg = 56.00\n"
     ]
    }
   ],
   "source": [
    "dic={}\n",
    "n=int(input(\"Enter the no. of student records you want to enter: \"))\n",
    "print(\"Enter the records\")\n",
    "i=0\n",
    "while i<n:\n",
    "    entry=input().split()\n",
    "    key=entry[0]\n",
    "    entry.pop(0)\n",
    "    dic[key]=entry\n",
    "    i+=1\n",
    "key=input(\"Enter the key: \")\n",
    "marks=dic[key]\n",
    "avg=(int(marks[0])+int(marks[1])+int(marks[2]))/3.0\n",
    "print('Avg = %.2f'%avg)"
   ]
  },
  {
   "cell_type": "markdown",
   "id": "831d4d30",
   "metadata": {},
   "source": [
    "**Write a program to sort a list without using inbuilt functions (list.sort not allowed)**<br>\n",
    "**a) Using Bubble Sort Algorithm** "
   ]
  },
  {
   "cell_type": "code",
   "execution_count": 2,
   "id": "0e279d20",
   "metadata": {},
   "outputs": [
    {
     "name": "stdout",
     "output_type": "stream",
     "text": [
      "Enter the elements of list seperated by space: 3 2 1 7 6 4\n",
      "[1, 2, 3, 4, 6, 7]\n"
     ]
    }
   ],
   "source": [
    "li=input(\"Enter the elements of list seperated by space: \").split()\n",
    "for i in range(len(li)):\n",
    "    li[i]=int(li[i])\n",
    "for i in range(len(li)-1):\n",
    "    for j in range(len(li)-1):\n",
    "        if(li[j]>li[j+1]):\n",
    "            temp=li[j]\n",
    "            li[j]=li[j+1]\n",
    "            li[j+1]=temp\n",
    "print(li)"
   ]
  },
  {
   "cell_type": "markdown",
   "id": "03ac5ae2",
   "metadata": {},
   "source": [
    "**b) Using Insertion Sort Algorithm**"
   ]
  },
  {
   "cell_type": "code",
   "execution_count": 7,
   "id": "2da62cf1",
   "metadata": {},
   "outputs": [
    {
     "name": "stdout",
     "output_type": "stream",
     "text": [
      "Enter the elements of list seperated by space: 3 1 4 2 6 5\n",
      "[1, 2, 3, 4, 5, 6]\n"
     ]
    }
   ],
   "source": [
    "array=input(\"Enter the elements of list seperated by space: \").split()\n",
    "for i in range(len(array)):\n",
    "    array[i]=int(array[i])\n",
    "for i in range(1, len(array)):\n",
    "    key = array[i]\n",
    "    j = i - 1\n",
    "    while j >= 0 and key < array[j]:\n",
    "        array[j + 1] = array[j]\n",
    "        j -= 1\n",
    "    array[j + 1] = key\n",
    "print(array)"
   ]
  },
  {
   "cell_type": "markdown",
   "id": "4f466535",
   "metadata": {},
   "source": [
    "**c) Using Selection Sort Algorithm**"
   ]
  },
  {
   "cell_type": "code",
   "execution_count": 12,
   "id": "080992b7",
   "metadata": {},
   "outputs": [
    {
     "name": "stdout",
     "output_type": "stream",
     "text": [
      "Enter the elements of list seperated by space: 3 1 2 7 6 5 4\n",
      "[1, 2, 3, 4, 5, 6, 7]\n"
     ]
    }
   ],
   "source": [
    "li=input(\"Enter the elements of list seperated by space: \").split()\n",
    "for i in range(len(li)):\n",
    "    li[i]=int(li[i])\n",
    "for i in range(len(li)):\n",
    "    mini=i\n",
    "    for j in range(i+1,len(li)):\n",
    "        if(li[mini]>li[j]):\n",
    "            mini=j\n",
    "    (li[i], li[mini]) = (li[mini], li[i])\n",
    "print(li)"
   ]
  }
 ],
 "metadata": {
  "kernelspec": {
   "display_name": "Python 3 (ipykernel)",
   "language": "python",
   "name": "python3"
  },
  "language_info": {
   "codemirror_mode": {
    "name": "ipython",
    "version": 3
   },
   "file_extension": ".py",
   "mimetype": "text/x-python",
   "name": "python",
   "nbconvert_exporter": "python",
   "pygments_lexer": "ipython3",
   "version": "3.10.9"
  }
 },
 "nbformat": 4,
 "nbformat_minor": 5
}
