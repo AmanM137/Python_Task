{
 "cells": [
  {
   "cell_type": "markdown",
   "id": "c4c99fa6",
   "metadata": {},
   "source": [
    "## Day-11 Task:"
   ]
  },
  {
   "cell_type": "markdown",
   "id": "f21a3686",
   "metadata": {},
   "source": [
    "**Print the following patterns:**"
   ]
  },
  {
   "cell_type": "code",
   "execution_count": 1,
   "id": "99696071",
   "metadata": {},
   "outputs": [
    {
     "name": "stdout",
     "output_type": "stream",
     "text": [
      "*\n",
      "**\n",
      "***\n",
      "****\n",
      "*****\n"
     ]
    }
   ],
   "source": [
    "i=1\n",
    "while i<=5:\n",
    "    s=\"*\"*i\n",
    "    print(s)\n",
    "    i+=1"
   ]
  },
  {
   "cell_type": "code",
   "execution_count": 2,
   "id": "0165f5b3",
   "metadata": {},
   "outputs": [
    {
     "name": "stdout",
     "output_type": "stream",
     "text": [
      "1\n",
      "22\n",
      "333\n",
      "4444\n",
      "55555\n"
     ]
    }
   ],
   "source": [
    "i=1\n",
    "while i<=5:\n",
    "    s=str(i)*i\n",
    "    print(s)\n",
    "    i+=1"
   ]
  },
  {
   "cell_type": "code",
   "execution_count": 1,
   "id": "95cb2981",
   "metadata": {},
   "outputs": [
    {
     "name": "stdout",
     "output_type": "stream",
     "text": [
      "1\n",
      "12\n",
      "123\n",
      "1234\n",
      "12345\n"
     ]
    }
   ],
   "source": [
    "i=1\n",
    "s=\"\"\n",
    "while i<=5:\n",
    "    s+=str(i)\n",
    "    print(s)\n",
    "    i+=1"
   ]
  },
  {
   "cell_type": "code",
   "execution_count": 8,
   "id": "c9465fa3",
   "metadata": {},
   "outputs": [
    {
     "name": "stdout",
     "output_type": "stream",
     "text": [
      "2\n",
      "34\n",
      "456\n",
      "5678\n",
      "678910\n"
     ]
    }
   ],
   "source": [
    "i=1\n",
    "a=2\n",
    "s=\"\"\n",
    "while i<=5:\n",
    "    s+=str(a)\n",
    "    print(s)\n",
    "    s=s[1:]+str(a+1)\n",
    "    a+=2\n",
    "    i+=1"
   ]
  },
  {
   "cell_type": "code",
   "execution_count": 5,
   "id": "9e3d43aa",
   "metadata": {},
   "outputs": [
    {
     "name": "stdout",
     "output_type": "stream",
     "text": [
      "1\n",
      "01\n",
      "101\n",
      "0101\n",
      "10101\n"
     ]
    }
   ],
   "source": [
    "i=1\n",
    "s=\"\"\n",
    "while i<=5:\n",
    "    s+=str(1)\n",
    "    print(s)\n",
    "    s=s[1:]+str(0)\n",
    "    i+=1"
   ]
  },
  {
   "cell_type": "code",
   "execution_count": 2,
   "id": "6d2da87b",
   "metadata": {},
   "outputs": [
    {
     "name": "stdout",
     "output_type": "stream",
     "text": [
      " 1\n",
      " 2 3\n",
      " 4 5 6\n",
      " 7 8 9 10\n",
      " 11 12 13 14 15\n"
     ]
    }
   ],
   "source": [
    "i=1\n",
    "a=1\n",
    "while i<=5:\n",
    "    s=\"\"\n",
    "    for _ in range(i):\n",
    "        s+=' '+str(a)\n",
    "        a+=1\n",
    "    print(s)\n",
    "    i+=1"
   ]
  },
  {
   "cell_type": "code",
   "execution_count": 1,
   "id": "86fe4e6e",
   "metadata": {},
   "outputs": [
    {
     "name": "stdout",
     "output_type": "stream",
     "text": [
      "5\n",
      "54\n",
      "543\n",
      "5432\n",
      "54321\n"
     ]
    }
   ],
   "source": [
    "i=5\n",
    "s=\"\"\n",
    "while i>=1:\n",
    "    s+=str(i)\n",
    "    print(s)\n",
    "    i-=1"
   ]
  },
  {
   "cell_type": "code",
   "execution_count": 3,
   "id": "80f70c78",
   "metadata": {},
   "outputs": [
    {
     "name": "stdout",
     "output_type": "stream",
     "text": [
      "5\n",
      "44\n",
      "333\n",
      "2222\n",
      "11111\n"
     ]
    }
   ],
   "source": [
    "i=5\n",
    "a=1\n",
    "while a<=5:\n",
    "    s=str(i)*a\n",
    "    a+=1\n",
    "    i-=1\n",
    "    print(s)"
   ]
  },
  {
   "cell_type": "code",
   "execution_count": 5,
   "id": "d076f92c",
   "metadata": {},
   "outputs": [
    {
     "name": "stdout",
     "output_type": "stream",
     "text": [
      "*****\n",
      "****\n",
      "***\n",
      "**\n",
      "*\n"
     ]
    }
   ],
   "source": [
    "i=5\n",
    "while i>0:\n",
    "    print(\"*\"*i)\n",
    "    i-=1"
   ]
  },
  {
   "cell_type": "code",
   "execution_count": 11,
   "id": "e56e5d44",
   "metadata": {},
   "outputs": [
    {
     "name": "stdout",
     "output_type": "stream",
     "text": [
      "11111\n",
      "2222\n",
      "333\n",
      "22\n",
      "1\n"
     ]
    }
   ],
   "source": [
    "i=1\n",
    "a=1\n",
    "for x in range(5,0,-1):\n",
    "    print(str(i)*x)\n",
    "    if(i==3):\n",
    "        a=-1\n",
    "    i+=a"
   ]
  },
  {
   "cell_type": "code",
   "execution_count": 15,
   "id": "5d64a37f",
   "metadata": {},
   "outputs": [
    {
     "name": "stdout",
     "output_type": "stream",
     "text": [
      "12345\n",
      "1234\n",
      "123\n",
      "12\n",
      "1\n"
     ]
    }
   ],
   "source": [
    "for i in range(5,0,-1):\n",
    "    a=1\n",
    "    s=\"\"\n",
    "    for _ in range(i):\n",
    "        s+=str(a)\n",
    "        a+=1\n",
    "    print(s)"
   ]
  },
  {
   "cell_type": "code",
   "execution_count": 18,
   "id": "b1494f32",
   "metadata": {},
   "outputs": [
    {
     "name": "stdout",
     "output_type": "stream",
     "text": [
      "55555\n",
      "4444\n",
      "333\n",
      "22\n",
      "1\n"
     ]
    }
   ],
   "source": [
    "for i in range(5,0,-1):\n",
    "    print(str(i)*i)"
   ]
  },
  {
   "cell_type": "code",
   "execution_count": 22,
   "id": "23ade1a5",
   "metadata": {},
   "outputs": [
    {
     "name": "stdout",
     "output_type": "stream",
     "text": [
      "54321\n",
      "5432\n",
      "543\n",
      "54\n",
      "5\n"
     ]
    }
   ],
   "source": [
    "for i in range(5):\n",
    "    s=\"\"\n",
    "    for x in range(5,i,-1):\n",
    "        s+=str(x)\n",
    "    print(s)"
   ]
  },
  {
   "cell_type": "code",
   "execution_count": 48,
   "id": "3d2d5dd7",
   "metadata": {},
   "outputs": [
    {
     "name": "stdout",
     "output_type": "stream",
     "text": [
      "    *     \n",
      "   * *    \n",
      "  * * *   \n",
      " * * * *  \n",
      "* * * * * \n"
     ]
    }
   ],
   "source": [
    "for i in range(5):\n",
    "    s=(\"* \"*(i+1)).strip()\n",
    "    print(s.center(10))"
   ]
  },
  {
   "cell_type": "code",
   "execution_count": 47,
   "id": "8d7c0e08",
   "metadata": {},
   "outputs": [
    {
     "name": "stdout",
     "output_type": "stream",
     "text": [
      "     1    \n",
      "    1 2   \n",
      "   1 2 3  \n",
      "  1 2 3 4 \n",
      " 1 2 3 4 5\n"
     ]
    }
   ],
   "source": [
    "s=\"\"\n",
    "for i in range(5):\n",
    "    s+=' '+str(i+1)\n",
    "    print(s.center(10))"
   ]
  },
  {
   "cell_type": "code",
   "execution_count": 46,
   "id": "bf8aea31",
   "metadata": {},
   "outputs": [
    {
     "name": "stdout",
     "output_type": "stream",
     "text": [
      "        * \n",
      "      * * \n",
      "    * * * \n",
      "  * * * * \n",
      "* * * * * \n"
     ]
    }
   ],
   "source": [
    "i=1\n",
    "while i<=5:\n",
    "    s=\"* \"*i\n",
    "    print(s.rjust(10))\n",
    "    i+=1"
   ]
  },
  {
   "cell_type": "code",
   "execution_count": 56,
   "id": "5c120744",
   "metadata": {},
   "outputs": [
    {
     "name": "stdout",
     "output_type": "stream",
     "text": [
      "         1\n",
      "       1 2\n",
      "     1 2 3\n",
      "   1 2 3 4\n",
      " 1 2 3 4 5\n"
     ]
    }
   ],
   "source": [
    "s=\"\"\n",
    "for i in range(5):\n",
    "    s+=' '+str(i+1)\n",
    "    print(s.rjust(10))"
   ]
  },
  {
   "cell_type": "code",
   "execution_count": 54,
   "id": "6421dea6",
   "metadata": {},
   "outputs": [
    {
     "name": "stdout",
     "output_type": "stream",
     "text": [
      "        *        \n",
      "      * * *      \n",
      "    * * * * *    \n",
      "  * * * * * * *  \n",
      "* * * * * * * * * \n"
     ]
    }
   ],
   "source": [
    "i=1\n",
    "while i<=10:\n",
    "    print((\"* \"*i).center(17))\n",
    "    i+=2"
   ]
  },
  {
   "cell_type": "code",
   "execution_count": 61,
   "id": "68c5dcac",
   "metadata": {},
   "outputs": [
    {
     "name": "stdout",
     "output_type": "stream",
     "text": [
      "    1    \n",
      "   222   \n",
      "  33333  \n",
      " 4444444 \n",
      "555555555\n"
     ]
    }
   ],
   "source": [
    "i=1\n",
    "for x in range(1,10,2):\n",
    "    print((str(i)*x).center(9))\n",
    "    i+=1"
   ]
  },
  {
   "cell_type": "code",
   "execution_count": 63,
   "id": "b4d04958",
   "metadata": {},
   "outputs": [
    {
     "name": "stdout",
     "output_type": "stream",
     "text": [
      "    1    \n",
      "   123   \n",
      "  12345  \n",
      " 1234567 \n",
      "123456789\n"
     ]
    }
   ],
   "source": [
    "i=0\n",
    "s=\"\"\n",
    "for _ in range(5):\n",
    "    s+=str(i+1)\n",
    "    print(s.center(9))\n",
    "    s+=str(i+2)\n",
    "    i+=2"
   ]
  },
  {
   "cell_type": "code",
   "execution_count": 9,
   "id": "2203137f",
   "metadata": {},
   "outputs": [
    {
     "name": "stdout",
     "output_type": "stream",
     "text": [
      "         1       \n",
      "       2 3 2     \n",
      "     3 4 5 4 3   \n",
      "   4 5 6 7 6 5 4 \n",
      " 5 6 7 8 9 8 7 6 5\n"
     ]
    }
   ],
   "source": [
    "a=0\n",
    "for i in range(1,10,2):\n",
    "    s=\"\"\n",
    "    c=1\n",
    "    for _ in range(i):\n",
    "        a+=c\n",
    "        s+=' '+str(a)\n",
    "        if(a==i):\n",
    "            c=-1\n",
    "    print(s.center(17))"
   ]
  },
  {
   "cell_type": "code",
   "execution_count": 42,
   "id": "4cda5537",
   "metadata": {},
   "outputs": [
    {
     "name": "stdout",
     "output_type": "stream",
     "text": [
      "         5          \n",
      "       5 4 5        \n",
      "     5 4 3 4 5      \n",
      "   5 4 3 2 3 4 5    \n",
      " 5 4 3 2 1 2 3 4 5  \n"
     ]
    }
   ],
   "source": [
    "a=5\n",
    "s=\"\"\n",
    "for i in range(5):\n",
    "    s=(s[0:i*2]+' '+str(a)+' '+s[(i*2)-1::-1])\n",
    "    print(s.center(20))\n",
    "    a-=1"
   ]
  },
  {
   "cell_type": "code",
   "execution_count": 49,
   "id": "0fc66038",
   "metadata": {},
   "outputs": [
    {
     "name": "stdout",
     "output_type": "stream",
     "text": [
      "* * * * * * * * * \n",
      "  * * * * * * *   \n",
      "    * * * * *     \n",
      "      * * *       \n",
      "        *         \n"
     ]
    }
   ],
   "source": [
    "for i in range(9,0,-2):\n",
    "    print((\"* \"*i).center(18))"
   ]
  },
  {
   "cell_type": "code",
   "execution_count": 53,
   "id": "633cad68",
   "metadata": {},
   "outputs": [
    {
     "name": "stdout",
     "output_type": "stream",
     "text": [
      "5 5 5 5 5 5 5 5 5 \n",
      "  4 4 4 4 4 4 4   \n",
      "    3 3 3 3 3     \n",
      "      2 2 2       \n",
      "        1         \n"
     ]
    }
   ],
   "source": [
    "a=5\n",
    "for i in range(9,0,-2):\n",
    "    print(((str(a)+' ')*i).center(18))\n",
    "    a-=1"
   ]
  },
  {
   "cell_type": "code",
   "execution_count": 56,
   "id": "0d11e0ce",
   "metadata": {},
   "outputs": [
    {
     "name": "stdout",
     "output_type": "stream",
     "text": [
      " 1 2 3 4 5 6 7 8 9\n",
      "   1 2 3 4 5 6 7  \n",
      "     1 2 3 4 5    \n",
      "       1 2 3      \n",
      "         1        \n"
     ]
    }
   ],
   "source": [
    "for i in range(9,0,-2):\n",
    "    s=\"\"\n",
    "    for x in range(1,i+1):\n",
    "        s+=' '+str(x)\n",
    "    print(s.center(18))"
   ]
  },
  {
   "cell_type": "code",
   "execution_count": 57,
   "id": "8519d7c2",
   "metadata": {},
   "outputs": [
    {
     "name": "stdout",
     "output_type": "stream",
     "text": [
      " 5 6 7 8 9 8 7 6 5\n",
      "   4 5 6 7 6 5 4  \n",
      "     3 4 5 4 3    \n",
      "       2 3 2      \n",
      "         1        \n"
     ]
    }
   ],
   "source": [
    "a=5\n",
    "for i in range(9,0,-2):\n",
    "    s=\"\"\n",
    "    c=1\n",
    "    for x in range(i):\n",
    "        if(a==i):\n",
    "            c=-1\n",
    "        s+=' '+str(a)\n",
    "        a+=c\n",
    "    print(s.center(18))"
   ]
  },
  {
   "cell_type": "code",
   "execution_count": 64,
   "id": "b10e3c73",
   "metadata": {},
   "outputs": [
    {
     "name": "stdout",
     "output_type": "stream",
     "text": [
      " 5 4 3 2 1 2 3 4 5\n",
      "   5 4 3 2 3 4 5  \n",
      "     5 4 3 4 5    \n",
      "       5 4 5      \n",
      "         5        \n"
     ]
    }
   ],
   "source": [
    "\n",
    "for i in range(9,0,-2):\n",
    "    a=5\n",
    "    s=\"\"\n",
    "    c=-1\n",
    "    for x in range(i):\n",
    "        if(x==int((i/2))):\n",
    "            c=1\n",
    "        s+=' '+str(a)\n",
    "        a+=c\n",
    "    print(s.center(18))"
   ]
  },
  {
   "cell_type": "code",
   "execution_count": 68,
   "id": "88a7e091",
   "metadata": {},
   "outputs": [
    {
     "name": "stdout",
     "output_type": "stream",
     "text": [
      "        *         \n",
      "      * * *       \n",
      "    * * * * *     \n",
      "  * * * * * * *   \n",
      "* * * * * * * * * \n",
      "  * * * * * * *   \n",
      "    * * * * *     \n",
      "      * * *       \n",
      "        *         \n"
     ]
    }
   ],
   "source": [
    "c=2\n",
    "i=1\n",
    "while i<18 and i>0:\n",
    "    print((\"* \"*i).center(18))\n",
    "    if(i==9):\n",
    "        c=-2\n",
    "    i+=c"
   ]
  },
  {
   "cell_type": "code",
   "execution_count": 77,
   "id": "84d3ec70",
   "metadata": {},
   "outputs": [
    {
     "name": "stdout",
     "output_type": "stream",
     "text": [
      "        1         \n",
      "      2 2 2       \n",
      "    3 3 3 3 3     \n",
      "  4 4 4 4 4 4 4   \n",
      "5 5 5 5 5 5 5 5 5 \n",
      "  4 4 4 4 4 4 4   \n",
      "    3 3 3 3 3     \n",
      "      2 2 2       \n",
      "        1         \n"
     ]
    }
   ],
   "source": [
    "c=2\n",
    "i=1\n",
    "while i<18 and i>0:\n",
    "    print(((str(i-int(i/2))+' ')*i).center(18))\n",
    "    if(i==9):\n",
    "        c=-2\n",
    "    i+=c"
   ]
  },
  {
   "cell_type": "code",
   "execution_count": 79,
   "id": "7a121ef3",
   "metadata": {},
   "outputs": [
    {
     "name": "stdout",
     "output_type": "stream",
     "text": [
      "         1       \n",
      "       1 2 3     \n",
      "     1 2 3 4 5   \n",
      "   1 2 3 4 5 6 7 \n",
      " 1 2 3 4 5 6 7 8 9\n",
      "   1 2 3 4 5 6 7 \n",
      "     1 2 3 4 5   \n",
      "       1 2 3     \n",
      "         1       \n"
     ]
    }
   ],
   "source": [
    "c=2\n",
    "i=1\n",
    "while i>0:\n",
    "    s=\"\"\n",
    "    for x in range(i):\n",
    "        s+=' '+str(x+1)\n",
    "    print(s.center(17))\n",
    "    if(i==9):\n",
    "        c=-2\n",
    "    i+=c"
   ]
  },
  {
   "cell_type": "code",
   "execution_count": 83,
   "id": "f9e855e8",
   "metadata": {},
   "outputs": [
    {
     "name": "stdout",
     "output_type": "stream",
     "text": [
      "         1        \n",
      "       2 3 2      \n",
      "     3 4 5 4 3    \n",
      "   4 5 6 7 6 5 4  \n",
      " 5 6 7 8 9 8 7 6 5\n",
      "   4 5 6 7 6 5 4  \n",
      "     3 4 5 4 3    \n",
      "       2 3 2      \n",
      "         1        \n"
     ]
    }
   ],
   "source": [
    "i=1\n",
    "b=2\n",
    "while i>0:\n",
    "    s=\"\"\n",
    "    c=1\n",
    "    a=int(i/2)+1\n",
    "    for x in range(i):\n",
    "        if(a==i):\n",
    "            c=-1\n",
    "        s+=' '+str(a)\n",
    "        a+=c\n",
    "    if(i==9):\n",
    "        b=-2\n",
    "    i+=b\n",
    "    print(s.center(18))\n",
    "    "
   ]
  },
  {
   "cell_type": "code",
   "execution_count": 124,
   "id": "d29cc278",
   "metadata": {},
   "outputs": [
    {
     "name": "stdout",
     "output_type": "stream",
     "text": [
      "         5         \n",
      "       5 4 5       \n",
      "     5 4 3 4 5     \n",
      "   5 4 3 2 3 4 5   \n",
      " 5 4 3 2 1 2 3 4 5 \n",
      "   5 4 3 2 3 4 5   \n",
      "     5 4 3 4 5     \n",
      "       5 4 5       \n",
      "         5         \n"
     ]
    }
   ],
   "source": [
    "a=5\n",
    "s=\"\"\n",
    "i=1\n",
    "x=1\n",
    "while i>0:\n",
    "    s=(s[0:(i-1)*2]+' '+str(a)+' '+(s[((i-1)*2)::-1]).strip()+' ')\n",
    "    print(s.center(19))\n",
    "    if(i==5):\n",
    "        x=-1\n",
    "    a-=x\n",
    "    i+=x"
   ]
  },
  {
   "cell_type": "code",
   "execution_count": 126,
   "id": "c884a8a9",
   "metadata": {},
   "outputs": [
    {
     "name": "stdout",
     "output_type": "stream",
     "text": [
      "* * * * * * * \n",
      "* * * * * * * \n",
      "* * * * * * * \n",
      "* * * * * * * \n",
      "* * * * * * * \n",
      "* * * * * * * \n",
      "* * * * * * * \n"
     ]
    }
   ],
   "source": [
    "for _ in range(7):\n",
    "    print(\"* \"*7)"
   ]
  },
  {
   "cell_type": "code",
   "execution_count": 132,
   "id": "9cd7dbb6",
   "metadata": {},
   "outputs": [
    {
     "name": "stdout",
     "output_type": "stream",
     "text": [
      "* * * * * * *\n",
      "*           *\n",
      "*           *\n",
      "*           *\n",
      "*           *\n",
      "*           *\n",
      "* * * * * * *\n"
     ]
    }
   ],
   "source": [
    "for i in range(7):\n",
    "    s=\"* \"\n",
    "    if(i!=0 and i!=6):\n",
    "        s='  '\n",
    "    print(\"* \"+s*5+\"*\")"
   ]
  },
  {
   "cell_type": "code",
   "execution_count": 142,
   "id": "dcd957ba",
   "metadata": {},
   "outputs": [
    {
     "name": "stdout",
     "output_type": "stream",
     "text": [
      "---------------.|.---------------\n",
      "------------.|..|..|.------------\n",
      "---------.|..|..|..|..|.---------\n",
      "------.|..|..|..|..|..|..|.------\n",
      "---.|..|..|..|..|..|..|..|..|.---\n",
      "-------------WELCOME-------------\n",
      "---.|..|..|..|..|..|..|..|..|.---\n",
      "------.|..|..|..|..|..|..|.------\n",
      "---------.|..|..|..|..|.---------\n",
      "------------.|..|..|.------------\n",
      "---------------.|.---------------\n"
     ]
    }
   ],
   "source": [
    "i=1\n",
    "c=2\n",
    "while i>0:\n",
    "    s=\".|.\"*i\n",
    "    if(i==11):\n",
    "        s=\"WELCOME\"\n",
    "        c=-2\n",
    "    print((s).center(33,'-'))\n",
    "    i+=c"
   ]
  },
  {
   "cell_type": "code",
   "execution_count": 255,
   "id": "92cb146c",
   "metadata": {},
   "outputs": [
    {
     "name": "stdout",
     "output_type": "stream",
     "text": [
      "__________________j__________________\n",
      "________________j-i-j________________\n",
      "______________j-i-h-i-j______________\n",
      "____________j-i-h-g-h-i-j____________\n",
      "__________j-i-h-g-f-g-h-i-j__________\n",
      "________j-i-h-g-f-e-f-g-h-i-j________\n",
      "______j-i-h-g-f-e-d-e-f-g-h-i-j______\n",
      "____j-i-h-g-f-e-d-c-d-e-f-g-h-i-j____\n",
      "__j-i-h-g-f-e-d-c-b-c-d-e-f-g-h-i-j__\n",
      "j-i-h-g-f-e-d-c-b-a-b-c-d-e-f-g-h-i-j\n",
      "__j-i-h-g-f-e-d-c-b-c-d-e-f-g-h-i-j__\n",
      "____j-i-h-g-f-e-d-c-d-e-f-g-h-i-j____\n",
      "______j-i-h-g-f-e-d-e-f-g-h-i-j______\n",
      "________j-i-h-g-f-e-f-g-h-i-j________\n",
      "__________j-i-h-g-f-g-h-i-j__________\n",
      "____________j-i-h-g-h-i-j____________\n",
      "______________j-i-h-i-j______________\n",
      "________________j-i-j________________\n",
      "__________________j__________________\n"
     ]
    }
   ],
   "source": [
    "a=106\n",
    "x=1\n",
    "i=0\n",
    "s=\"\"\n",
    "while i>=0:\n",
    "    #s=s[0:(i*2)-1].strip('-')\n",
    "    #s=(s+'-'+chr(a)+'-'+s[-1::-1]).strip('-')\n",
    "    b=1   \n",
    "    s=(s[0:(i*2)-b]+'-'+chr(a)+'-'+(s[(i*2)-b::-1]).strip('-')+'-').strip('-')\n",
    "    if(i==0):\n",
    "        s=(s[0:(i*2)]+'-'+chr(a)+'-'+(s[(i*2):0:-1]).strip('-')+'-').strip('-')\n",
    "    print(s.center(37,'_'))\n",
    "    if(i==9):\n",
    "        x=-1\n",
    "    i+=x\n",
    "    a-=x"
   ]
  },
  {
   "cell_type": "code",
   "execution_count": null,
   "id": "faa305e8",
   "metadata": {},
   "outputs": [],
   "source": []
  }
 ],
 "metadata": {
  "kernelspec": {
   "display_name": "Python 3 (ipykernel)",
   "language": "python",
   "name": "python3"
  },
  "language_info": {
   "codemirror_mode": {
    "name": "ipython",
    "version": 3
   },
   "file_extension": ".py",
   "mimetype": "text/x-python",
   "name": "python",
   "nbconvert_exporter": "python",
   "pygments_lexer": "ipython3",
   "version": "3.10.9"
  }
 },
 "nbformat": 4,
 "nbformat_minor": 5
}
