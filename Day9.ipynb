{
 "cells": [
  {
   "cell_type": "markdown",
   "id": "66a210b5",
   "metadata": {},
   "source": [
    "## Day-9 Task:"
   ]
  },
  {
   "cell_type": "markdown",
   "id": "738fac6e",
   "metadata": {},
   "source": [
    "**Write a Python program to check whether a number is negative, positive or zero.**"
   ]
  },
  {
   "cell_type": "code",
   "execution_count": 3,
   "id": "6d6f9a46",
   "metadata": {},
   "outputs": [
    {
     "name": "stdout",
     "output_type": "stream",
     "text": [
      "Enter a no.: 4\n",
      "4 is a positive no.\n"
     ]
    }
   ],
   "source": [
    "n=int(input(\"Enter a no.: \"))\n",
    "if(n<0):\n",
    "    print(f\"{n} is a negative no.\")\n",
    "if(n>0):\n",
    "    print(f\"{n} is a positive no.\")\n",
    "else:\n",
    "    print(f\"{n} is zero.\")"
   ]
  },
  {
   "cell_type": "markdown",
   "id": "d9cedefd",
   "metadata": {},
   "source": [
    "**Write a Python program to check whether a number is divisible by 5 and 11 or not.**"
   ]
  },
  {
   "cell_type": "code",
   "execution_count": 6,
   "id": "7c7e9bea",
   "metadata": {},
   "outputs": [
    {
     "name": "stdout",
     "output_type": "stream",
     "text": [
      "Enter a no.: 55\n",
      "55 is divisible by 5 and 11\n"
     ]
    }
   ],
   "source": [
    "n=int(input(\"Enter a no.: \"))\n",
    "if(n%5==0 and n%11==0):\n",
    "    print(f\"{n} is divisible by 5 and 11\")\n",
    "else:\n",
    "    print(f\"{n} is not divisible by 5 and 11\")"
   ]
  },
  {
   "cell_type": "markdown",
   "id": "e95cce43",
   "metadata": {},
   "source": [
    "**Write a Python program to check whether a year is leap year or not.**"
   ]
  },
  {
   "cell_type": "code",
   "execution_count": 8,
   "id": "54ec4634",
   "metadata": {},
   "outputs": [
    {
     "name": "stdout",
     "output_type": "stream",
     "text": [
      "Which year do you want to check? 3246\n",
      "3246 is not a leap year.\n"
     ]
    }
   ],
   "source": [
    "year = int(input(\"Which year do you want to check? \"))\n",
    "if year%4==0 and (year%100!=0 or year%400==0):\n",
    "    print(f\"{year} is a Leap year.\")\n",
    "else:\n",
    "    print(f\"{year} is not a leap year.\")"
   ]
  },
  {
   "cell_type": "markdown",
   "id": "4b19d1f8",
   "metadata": {},
   "source": [
    "**Write a Python program to check whether a character is alphabet or not.**"
   ]
  },
  {
   "cell_type": "code",
   "execution_count": 11,
   "id": "259827fd",
   "metadata": {},
   "outputs": [
    {
     "name": "stdout",
     "output_type": "stream",
     "text": [
      "Enter a character: $\n",
      "$ is not an alphabet.\n"
     ]
    }
   ],
   "source": [
    "char=input(\"Enter a character: \")\n",
    "if(char.upper()>='A' and char.upper()<='Z'):\n",
    "    print(f\"{char} is an alphabet.\")\n",
    "else:\n",
    "    print(f\"{char} is not an alphabet.\")"
   ]
  },
  {
   "cell_type": "markdown",
   "id": "ce91630e",
   "metadata": {},
   "source": [
    "**Write a Python program to input any alphabet and check whether it is vowel or consonant.**"
   ]
  },
  {
   "cell_type": "code",
   "execution_count": 14,
   "id": "21458170",
   "metadata": {},
   "outputs": [
    {
     "name": "stdout",
     "output_type": "stream",
     "text": [
      "Enter an alphabet: s\n",
      "s is not a consonant.\n"
     ]
    }
   ],
   "source": [
    "char=input(\"Enter an alphabet: \")\n",
    "c=char.upper()\n",
    "if(c=='A' or c=='E' or c=='I' or c=='O' or c=='U'):\n",
    "    print(f\"{char} is a vowel.\")\n",
    "else:\n",
    "    print(f\"{char} is not a consonant.\")"
   ]
  },
  {
   "cell_type": "markdown",
   "id": "ea3c2c17",
   "metadata": {},
   "source": [
    "**Write a Python program to input any character and check whether it is alphabet, digit or special character.**"
   ]
  },
  {
   "cell_type": "code",
   "execution_count": 18,
   "id": "04961f11",
   "metadata": {},
   "outputs": [
    {
     "name": "stdout",
     "output_type": "stream",
     "text": [
      "Enter an character: #\n",
      "# is a special character.\n"
     ]
    }
   ],
   "source": [
    "char=input(\"Enter an character: \")\n",
    "if(char.isalpha()):\n",
    "    print(f\"{char} is an alphabet.\")\n",
    "elif(char.isdigit()):\n",
    "    print(f\"{char} is a digit.\")\n",
    "else:\n",
    "    print(f\"{char} is a special character.\")"
   ]
  },
  {
   "cell_type": "markdown",
   "id": "1870b2d3",
   "metadata": {},
   "source": [
    "**Write a Python program to check whether a character is uppercase or lowercase alphabet.**"
   ]
  },
  {
   "cell_type": "code",
   "execution_count": 21,
   "id": "c57f8fac",
   "metadata": {},
   "outputs": [
    {
     "name": "stdout",
     "output_type": "stream",
     "text": [
      "Enter an character: A\n",
      "A is in upper case\n"
     ]
    }
   ],
   "source": [
    "char=input(\"Enter an character: \")\n",
    "if(char.isalpha() and char.isupper()):\n",
    "    print(f\"{char} is in upper case\")\n",
    "if(char.isalpha() and char.islower()):\n",
    "    print(f\"{char} is in lower case\")"
   ]
  },
  {
   "cell_type": "markdown",
   "id": "8e292cf8",
   "metadata": {},
   "source": [
    "**Write a Python program to input week number and print weekday.**"
   ]
  },
  {
   "cell_type": "code",
   "execution_count": 23,
   "id": "473a9eae",
   "metadata": {},
   "outputs": [
    {
     "name": "stdout",
     "output_type": "stream",
     "text": [
      "Enter weekday number(1-7): 7\n",
      "Sunday\n"
     ]
    }
   ],
   "source": [
    "n=int(input(\"Enter weekday number(1-7): \"))\n",
    "if(n==1):\n",
    "    print(\"Monday\")\n",
    "elif(n==2):\n",
    "    print(\"Tuesday\")\n",
    "elif(n==3):\n",
    "    print(\"Wednesday\")\n",
    "elif(n==4):\n",
    "    print(\"Thursday\")\n",
    "elif(n==5):\n",
    "    print(\"Friday\")\n",
    "elif(n==6):\n",
    "    print(\"Saturday\")\n",
    "elif(n==7):\n",
    "    print(\"Sunday\")\n",
    "else:\n",
    "    print(\"Invalid Input\")"
   ]
  },
  {
   "cell_type": "markdown",
   "id": "efc8518c",
   "metadata": {},
   "source": [
    "**Write a Python program to input angles of a triangle and check whether triangle is valid or not.**"
   ]
  },
  {
   "cell_type": "code",
   "execution_count": 26,
   "id": "9f12f6e0",
   "metadata": {},
   "outputs": [
    {
     "name": "stdout",
     "output_type": "stream",
     "text": [
      "Enter the Triangle angle-1 :40\n",
      "Enter the Triangle angle-2 :90\n",
      "Enter the Triangle angle-3 :50\n",
      "Triangle is valid...\n"
     ]
    }
   ],
   "source": [
    "s1 = int(input(\"Enter the Triangle angle-1 :\"))\n",
    "s2 = int(input(\"Enter the Triangle angle-2 :\"))\n",
    "s3 = int(input(\"Enter the Triangle angle-3 :\"))\n",
    "sum = s1+s2+s3\n",
    "if(sum==180 and s1!=0 and s2!=0 and s3!=0):\n",
    "    print(\"Triangle is valid...\")\n",
    "else:\n",
    "    print(\"Triangle is not valid...\")"
   ]
  },
  {
   "cell_type": "markdown",
   "id": "10311fdb",
   "metadata": {},
   "source": [
    "**Write a Python program to input all sides of a triangle and check whether triangle is valid or not.**"
   ]
  },
  {
   "cell_type": "code",
   "execution_count": 28,
   "id": "12d878f6",
   "metadata": {},
   "outputs": [
    {
     "name": "stdout",
     "output_type": "stream",
     "text": [
      "Enter the Triangle side-1 :2\n",
      "Enter the Triangle side-2 :2\n",
      "Enter the Triangle side-3 :4\n",
      "Triangle is valid...\n"
     ]
    }
   ],
   "source": [
    "s1 = int(input(\"Enter the Triangle side-1 :\"))\n",
    "s2 = int(input(\"Enter the Triangle side-2 :\"))\n",
    "s3 = int(input(\"Enter the Triangle side-3 :\"))\n",
    "if(s1+s2>=s3 and s2+s3>=s1 and s3+s1>=s2):\n",
    "    print(\"Triangle is valid...\")\n",
    "else:\n",
    "    print(\"Triangle is not valid...\")"
   ]
  },
  {
   "cell_type": "markdown",
   "id": "164115f7",
   "metadata": {},
   "source": [
    "**Write a Python program to check whether the triangle is equilateral, isosceles or scalene triangle.**"
   ]
  },
  {
   "cell_type": "code",
   "execution_count": 30,
   "id": "7718f7ce",
   "metadata": {},
   "outputs": [
    {
     "name": "stdout",
     "output_type": "stream",
     "text": [
      "Input lengths of the triangle sides: \n",
      "Side-1: 12\n",
      "Side-2: 12\n",
      "Side-3: 12\n",
      "Equilateral triangle\n"
     ]
    }
   ],
   "source": [
    "print(\"Input lengths of the triangle sides: \")\n",
    "x = int(input(\"Side-1: \"))\n",
    "y = int(input(\"Side-2: \"))\n",
    "z = int(input(\"Side-3: \"))\n",
    "if(s1+s2>=s3 and s2+s3>=s1 and s3+s1>=s2):\n",
    "    if x == y == z:\n",
    "        print(\"Equilateral triangle\")\n",
    "    elif x==y or y==z or z==x:\n",
    "        print(\"isosceles triangle\")\n",
    "    else:\n",
    "        print(\"Scalene triangle\")\n",
    "else:\n",
    "    print(\"Triangle is not valid...\")"
   ]
  },
  {
   "cell_type": "markdown",
   "id": "c51fe9bc",
   "metadata": {},
   "source": [
    "**Write a Python program to input marks of five subjects Physics, Chemistry, Biology, Mathematics and Computer. Calculate percentage and grade according to following:**\n",
    "\n",
    "             Percentage >= 90% : Grade A \n",
    "             Percentage >= 80% : Grade B  \n",
    "             Percentage >= 70% : Grade C \n",
    "             Percentage >= 60% : Grade D  \n",
    "             Percentage >= 50% : Grade E  \n",
    "             Percentage < 40%  : Grade F "
   ]
  },
  {
   "cell_type": "code",
   "execution_count": 33,
   "id": "42eb8cd5",
   "metadata": {},
   "outputs": [
    {
     "name": "stdout",
     "output_type": "stream",
     "text": [
      "Enter the marks of following subjects(out of 100):\n",
      "Physics: 89\n",
      "Chemistry: 90\n",
      "Biology: 78\n",
      "Mathematics: 87\n",
      "Computer: 94\n",
      "You got: Grade B\n"
     ]
    }
   ],
   "source": [
    "print(\"Enter the marks of following subjects(out of 100):\")\n",
    "phy=int(input(\"Physics: \"))\n",
    "chem=int(input(\"Chemistry: \"))\n",
    "bio=int(input(\"Biology: \"))\n",
    "math=int(input(\"Mathematics: \"))\n",
    "comp=int(input(\"Computer: \"))\n",
    "percentage=(phy+chem+bio+math+comp)/5\n",
    "if(percentage>=90):\n",
    "    print(\"You got: Grade A\")\n",
    "elif(percentage>=80):\n",
    "    print(\"You got: Grade B\")\n",
    "elif(percentage>=70):\n",
    "    print(\"You got: Grade C\")\n",
    "elif(percentage>=60):\n",
    "    print(\"You got: Grade D\")\n",
    "elif(percentage>=50):\n",
    "    print(\"You got: Grade E\")\n",
    "else:\n",
    "    print(\"You got: Grade F\")"
   ]
  },
  {
   "cell_type": "markdown",
   "id": "a1a44f9a",
   "metadata": {},
   "source": [
    "**Write a Python program to input basic salary of an employee and calculate its Gross salary according to following:**\n",
    "\n",
    "           Basic Salary <= 10000 : HRA = 20%, DA = 80% \n",
    "           Basic Salary <= 20000 : HRA = 25%, DA = 90% \n",
    "           Basic Salary > 20000 : HRA = 30%, DA = 95% "
   ]
  },
  {
   "cell_type": "code",
   "execution_count": 35,
   "id": "996f4898",
   "metadata": {},
   "outputs": [
    {
     "name": "stdout",
     "output_type": "stream",
     "text": [
      "Enter your basic salary: 12000\n",
      "Gross salary= 25800.0\n"
     ]
    }
   ],
   "source": [
    "basic=int(input(\"Enter your basic salary: \"))\n",
    "hra=0; da=0\n",
    "if(basic<=10000):\n",
    "    hra=basic*0.2\n",
    "    da=basic*0.8\n",
    "elif(basic<=20000):\n",
    "    hra=basic*0.25\n",
    "    da=basic*0.9\n",
    "else:\n",
    "    hra=basic*0.3\n",
    "    da=basic*0.95\n",
    "gross=basic+hra+da\n",
    "print(f\"Gross salary= {gross}\")"
   ]
  },
  {
   "cell_type": "markdown",
   "id": "0936bba9",
   "metadata": {},
   "source": [
    "**Write a Python Program to input electricity unit charges and calculate total electricity bill according to the given condition:**  \n",
    "\n",
    "        For first 50 units Rs. 0.50/unit \n",
    "        For next 100 units Rs. 0.75/unit \n",
    "        For next 100 units Rs. 1.20/unit \n",
    "        For unit above 250 Rs. 1.50/unit \n",
    "        An additional surcharge of 20% is added to the bill "
   ]
  },
  {
   "cell_type": "code",
   "execution_count": 2,
   "id": "3b849143",
   "metadata": {},
   "outputs": [
    {
     "name": "stdout",
     "output_type": "stream",
     "text": [
      "Enter electricity unit charges: 267\n",
      "Bill= 294.6\n"
     ]
    }
   ],
   "source": [
    "unit=int(input(\"Enter electricity unit charges: \"))\n",
    "bill=0;\n",
    "if(unit<50):\n",
    "    bill+=unit*0.50\n",
    "elif(unit<150):\n",
    "    bill+=25+(unit-50)*0.75\n",
    "elif(unit<250):\n",
    "    bill+=25+75+(unit-150)*1.20\n",
    "else:\n",
    "    bill+=25+75+120+(unit-250)*1.50\n",
    "bill+=(bill*0.2)\n",
    "print(f\"Bill= {bill}\")"
   ]
  }
 ],
 "metadata": {
  "kernelspec": {
   "display_name": "Python 3 (ipykernel)",
   "language": "python",
   "name": "python3"
  },
  "language_info": {
   "codemirror_mode": {
    "name": "ipython",
    "version": 3
   },
   "file_extension": ".py",
   "mimetype": "text/x-python",
   "name": "python",
   "nbconvert_exporter": "python",
   "pygments_lexer": "ipython3",
   "version": "3.10.9"
  }
 },
 "nbformat": 4,
 "nbformat_minor": 5
}
