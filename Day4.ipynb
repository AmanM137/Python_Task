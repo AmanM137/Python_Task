{
 "cells": [
  {
   "cell_type": "markdown",
   "id": "0004725a",
   "metadata": {},
   "source": [
    "## Day-4 Task:"
   ]
  },
  {
   "cell_type": "markdown",
   "id": "a5605e5c",
   "metadata": {},
   "source": [
    "**Explore split, strip, replace, center, title methods of string data type in python:**"
   ]
  },
  {
   "cell_type": "code",
   "execution_count": 11,
   "id": "79b53d3a",
   "metadata": {},
   "outputs": [
    {
     "name": "stdout",
     "output_type": "stream",
     "text": [
      "['$$##---I', 'am', 'Aman', 'Kumar', 'Singh--#$$$']\n",
      "I am Aman Kumar Singh\n",
      "$$##---I am AMAN Kumar Singh--#$$$\n",
      "________$$##---I am Aman Kumar Singh--#$$$________\n",
      "$$##---I Am Aman Kumar Singh--#$$$\n"
     ]
    }
   ],
   "source": [
    "string=\"$$##---I am Aman Kumar Singh--#$$$\"\n",
    "list=string.split()\n",
    "print(list)\n",
    "print(string.strip(\"$#-\"))\n",
    "print(string.replace(\"Aman\",\"AMAN\"))\n",
    "print(string.center(50,'_'))\n",
    "print(string.title())"
   ]
  },
  {
   "cell_type": "markdown",
   "id": "622d6dd4",
   "metadata": {},
   "source": [
    "**Explore append, pop, remove, sort methods of list data type:**"
   ]
  },
  {
   "cell_type": "code",
   "execution_count": 37,
   "id": "8b229beb",
   "metadata": {},
   "outputs": [
    {
     "name": "stdout",
     "output_type": "stream",
     "text": [
      "[10, 30, 5, 20, 60, 0, 80]\n",
      "80\n",
      "[10, 30, 20, 60, 0]\n",
      "[0, 10, 20, 30, 60]\n"
     ]
    }
   ],
   "source": [
    "list=[10, 30, 5, 20, 60, 0]\n",
    "list.append(80)\n",
    "print(list)\n",
    "print(list.pop())\n",
    "list.remove(5)\n",
    "print(list)\n",
    "list.sort()\n",
    "print(list)"
   ]
  },
  {
   "cell_type": "markdown",
   "id": "1f79efe2",
   "metadata": {},
   "source": [
    "**Create 5 real time lists to store some useful information in python:**"
   ]
  },
  {
   "cell_type": "code",
   "execution_count": 1,
   "id": "09edb2c1",
   "metadata": {},
   "outputs": [
    {
     "name": "stdout",
     "output_type": "stream",
     "text": [
      "['JAVA', 'C/C++', 'Python', 'HTML', 'CSS', 'JavaScrip', 'Scala', 'Kotlin', 'SQL']\n",
      "['DSA', 'OOPs', 'Web Develpment', 'Big Data', 'DBMS']\n",
      "['Web Developer', 'Data Scientist', 'Full Stack Developer', 'Database Engineer']\n",
      "[2, 5, 'Fresher', 3]\n",
      "[30000, 50000, 60000, 20000, 50000]\n"
     ]
    }
   ],
   "source": [
    "language=['JAVA','C/C++','Python','HTML','CSS','JavaScrip','Scala','Kotlin','SQL']\n",
    "Subjects=['DSA','OOPs','Web Develpment','Big Data','DBMS']\n",
    "Profile=['Web Developer','Data Scientist','Full Stack Developer','Database Engineer']\n",
    "Experience_year=[2,5,'Fresher',3]\n",
    "Salary=[30000,50000,60000,20000,50000]\n",
    "print(language)\n",
    "print(Subjects)\n",
    "print(Profile)\n",
    "print(Experience_year)\n",
    "print(Salary)"
   ]
  },
  {
   "cell_type": "markdown",
   "id": "ed432aa3",
   "metadata": {},
   "source": [
    "**What is difference between mutable and immutable data types in python?**\n",
    "\n",
    "        A mutable data type is an object whose state can be modified after it is defined whereas Immutable datatypes are\n",
    "        objects that cannot be modified or altered after they have been created."
   ]
  },
  {
   "cell_type": "markdown",
   "id": "388b04c3",
   "metadata": {},
   "source": [
    "**What are identifiers, list rules of identifiers in python?**\n",
    "         \n",
    "         An identifier is a user-defined name given to identities like class, functions, variables, modules, or any other\n",
    "         object in Python.\n",
    "         Rules of identifiers are:\n",
    "           1) The identifier is a combination of character digits and underscore and the character includes letters in\n",
    "              lowercase (a-z), letters in uppercase (A-Z), digits (0-9), and an underscore (_).\n",
    "           2) An identifier cannot begin with a digit.\n",
    "           3) Keywords are the reserved names that are built-in to Python, so a keyword cannot be used as an identifier, \n",
    "              they have a special meaning and we cannot use them as identifier names.\n",
    "           4) Special symbols like !, @, #, $, %, etc. are not allowed in identifiers.\n",
    "           5) Python identifiers cannot only contain digits.\n",
    "           6) Identifier names are case-sensitive."
   ]
  },
  {
   "cell_type": "code",
   "execution_count": null,
   "id": "f4b66a8f",
   "metadata": {},
   "outputs": [],
   "source": []
  }
 ],
 "metadata": {
  "kernelspec": {
   "display_name": "Python 3 (ipykernel)",
   "language": "python",
   "name": "python3"
  },
  "language_info": {
   "codemirror_mode": {
    "name": "ipython",
    "version": 3
   },
   "file_extension": ".py",
   "mimetype": "text/x-python",
   "name": "python",
   "nbconvert_exporter": "python",
   "pygments_lexer": "ipython3",
   "version": "3.10.9"
  }
 },
 "nbformat": 4,
 "nbformat_minor": 5
}
