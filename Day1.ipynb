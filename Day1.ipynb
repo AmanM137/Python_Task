{
 "cells": [
  {
   "cell_type": "markdown",
   "id": "67fbeb13",
   "metadata": {},
   "source": [
    "## Day-1 Task:"
   ]
  },
  {
   "cell_type": "markdown",
   "id": "5367023a",
   "metadata": {},
   "source": [
    " **List Some Mega Projects hosted in Python.**\n",
    "                \n",
    "      Database Projects: Management Systems (Library, Hotel, Hospital, School)\n",
    "      ML Projects: Classification\n",
    "      AI Projects: Chatbots, face detection and recognition, speech recognition, Security\n",
    "      Data Science Projects: Global Terrorism Analysis, Call Data Record Analysis"
   ]
  },
  {
   "cell_type": "markdown",
   "id": "23b7ab38",
   "metadata": {},
   "source": [
    "**List Python Libraries used in different IT domains**\n",
    "\n",
    "     Pandas, Numpy, Matplotlib, Tkinter, Sklearn, Tensorflow, Keras, Scipy"
   ]
  },
  {
   "cell_type": "markdown",
   "id": "ad0db24a",
   "metadata": {},
   "source": [
    "**Create a Program and execute a script in Python**"
   ]
  },
  {
   "cell_type": "code",
   "execution_count": 5,
   "id": "acd9c72d",
   "metadata": {},
   "outputs": [
    {
     "name": "stdout",
     "output_type": "stream",
     "text": [
      "Hello World\n",
      "Sum is : 50\n"
     ]
    }
   ],
   "source": [
    "print(\"Hello World\") \n",
    "a = 45 \n",
    "b = 5 \n",
    "c = a+b \n",
    "print(\"Sum is :\", c) "
   ]
  }
 ],
 "metadata": {
  "kernelspec": {
   "display_name": "Python 3 (ipykernel)",
   "language": "python",
   "name": "python3"
  },
  "language_info": {
   "codemirror_mode": {
    "name": "ipython",
    "version": 3
   },
   "file_extension": ".py",
   "mimetype": "text/x-python",
   "name": "python",
   "nbconvert_exporter": "python",
   "pygments_lexer": "ipython3",
   "version": "3.10.9"
  }
 },
 "nbformat": 4,
 "nbformat_minor": 5
}
