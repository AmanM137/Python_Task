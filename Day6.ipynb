{
 "cells": [
  {
   "cell_type": "markdown",
   "id": "97eb4805",
   "metadata": {},
   "source": [
    "## Day-6 Task:"
   ]
  },
  {
   "cell_type": "markdown",
   "id": "4983e927",
   "metadata": {},
   "source": [
    "**Write down 10 projects ideas you want to implement using python:**\n",
    "      \n",
    "       1) Number Guessing\n",
    "       2) Text-based Adventure Game\n",
    "       3) Dice Rolling Simulator\n",
    "       4) Object Identifier\n",
    "       5) Rock,Paper,Scissors\n",
    "       6) Movie Recommendation\n",
    "       7) Password generator\n",
    "       8) URL shortener\n",
    "       9) Wikipedia explorer\n",
    "       10) Chatbot"
   ]
  },
  {
   "cell_type": "markdown",
   "id": "271a7392",
   "metadata": {},
   "source": [
    "**Create at list 5 objects using list, dictionary, it will be good if you store realistic data**"
   ]
  },
  {
   "cell_type": "code",
   "execution_count": 6,
   "id": "c8528cb1",
   "metadata": {},
   "outputs": [
    {
     "name": "stdout",
     "output_type": "stream",
     "text": [
      "list-1: ['JAVA', 'C/C++', 'Python', 'HTML', 'CSS', 'JavaScrip', 'Scala', 'Kotlin', 'SQL']\n",
      "\n",
      "list-2: ['DSA', 'OOPs', 'Web Develpment', 'Big Data', 'DBMS']\n",
      "\n",
      "list-3: ['wings of fire', 'Aghori', 'The Hidden Hindu', 'Shiva Triology']\n",
      "\n",
      "dictionary-1: {'name': 'Wings of Fire', 'author': 'APJ Abdul Kalam', 'genre': 'Autobiography', 'publisher': 'Universities Press', 'no_of_pages': 228}\n",
      "\n",
      "distionary-2: {'name': 'Asur:Welcome to your Dark side', 'genre': 'Crime, Mystery', 'language': 'Hindi', 'director': 'Oni Sen', 'season': 2}\n",
      "\n"
     ]
    }
   ],
   "source": [
    "language=['JAVA','C/C++','Python','HTML','CSS','JavaScrip','Scala','Kotlin','SQL']\n",
    "subjects=['DSA','OOPs','Web Develpment','Big Data','DBMS']\n",
    "books=['wings of fire','Aghori','The Hidden Hindu','Shiva Triology']\n",
    "book_detail={\n",
    "    \"name\":\"Wings of Fire\",\n",
    "    \"author\":\"APJ Abdul Kalam\",\n",
    "    \"genre\":\"Autobiography\",\n",
    "    \"publisher\":\"Universities Press\",\n",
    "    \"no_of_pages\":228\n",
    "}\n",
    "show_detail={\n",
    "    \"name\":\"Asur:Welcome to your Dark side\",\n",
    "    \"genre\":\"Crime, Mystery\",\n",
    "    \"language\":\"Hindi\",\n",
    "    \"director\":\"Oni Sen\",\n",
    "    \"season\":2\n",
    "}\n",
    "print(f\"list-1: {language}\\n\")\n",
    "print(f\"list-2: {subjects}\\n\")\n",
    "print(f\"list-3: {books}\\n\")\n",
    "print(f\"dictionary-1: {book_detail}\\n\")\n",
    "print(f\"distionary-2: {show_detail}\\n\")"
   ]
  },
  {
   "cell_type": "markdown",
   "id": "29866f27",
   "metadata": {},
   "source": [
    "**What is duck typing in python, what are Dunder or special methods?**\n",
    "\n",
    "       Duck typing is a concept related to dynamic typing, where the type or the class of an object is less important than the methods it defines.\n",
    "       Dunder methods are methods that allow instances of a class to interact with the built-in functions and operators of the language."
   ]
  },
  {
   "cell_type": "markdown",
   "id": "b3436165",
   "metadata": {},
   "source": [
    "**What are operators? How many types of operators are there in python?**\n",
    "  \n",
    "       Operators are special symbols that designate that some sort of computation should be performed. The values that an operator acts on are called operands.\n",
    "       There are 7 operators and are divide in the following groups:\n",
    "       1) Arithmetic operators\n",
    "       2) Assignment operators\n",
    "       3) Comparison operators\n",
    "       4) Logical operators\n",
    "       5) Identity operators\n",
    "       6) Membership operators\n",
    "       7) Bitwise operators"
   ]
  },
  {
   "cell_type": "code",
   "execution_count": null,
   "id": "e6761886",
   "metadata": {},
   "outputs": [],
   "source": []
  }
 ],
 "metadata": {
  "kernelspec": {
   "display_name": "Python 3 (ipykernel)",
   "language": "python",
   "name": "python3"
  },
  "language_info": {
   "codemirror_mode": {
    "name": "ipython",
    "version": 3
   },
   "file_extension": ".py",
   "mimetype": "text/x-python",
   "name": "python",
   "nbconvert_exporter": "python",
   "pygments_lexer": "ipython3",
   "version": "3.10.9"
  }
 },
 "nbformat": 4,
 "nbformat_minor": 5
}
