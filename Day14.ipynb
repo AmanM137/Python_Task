{
 "cells": [
  {
   "cell_type": "markdown",
   "id": "13ec58c7",
   "metadata": {},
   "source": [
    "## Day-14 Task:"
   ]
  },
  {
   "cell_type": "markdown",
   "id": "feb056a9",
   "metadata": {},
   "source": [
    "**Program to find the sum of digits of a number until the sum is reduced to 1 digit**"
   ]
  },
  {
   "cell_type": "code",
   "execution_count": 3,
   "id": "09fafb64",
   "metadata": {},
   "outputs": [
    {
     "name": "stdout",
     "output_type": "stream",
     "text": [
      "Enter a no: 67\n",
      "Sum of digits of 67 until the sum is reduced to 1 digit = 4\n"
     ]
    }
   ],
   "source": [
    "number=int(input(\"Enter a no: \"))\n",
    "n=number\n",
    "while True:\n",
    "    s=0\n",
    "    if(n<10):\n",
    "        break\n",
    "    while n!=0:\n",
    "        s+=int(n%10)\n",
    "        n/=10\n",
    "    n=s\n",
    "print(f\"Sum of digits of {number} until the sum is reduced to 1 digit = {n}\")"
   ]
  },
  {
   "cell_type": "markdown",
   "id": "8e79629f",
   "metadata": {},
   "source": [
    "**Program to find LCM and HCF of two numbers**"
   ]
  },
  {
   "cell_type": "code",
   "execution_count": 4,
   "id": "6f1fb299",
   "metadata": {},
   "outputs": [
    {
     "name": "stdout",
     "output_type": "stream",
     "text": [
      "Enter one no.: 12\n",
      "Enter another no.: 18\n",
      "HCF of 12 and 18= 6\n",
      "HCF of 12 and 18= 36\n"
     ]
    }
   ],
   "source": [
    "number1=int(input(\"Enter one no.: \"))\n",
    "number2=int(input(\"Enter another no.: \"))\n",
    "hcf=1\n",
    "for i in range(2,number1+1):\n",
    "    if(number1%i==0 and number2%i==0):\n",
    "        hcf=i\n",
    "lcm=int(number1*number2/hcf)\n",
    "print(f\"HCF of {number1} and {number2}= {hcf}\")\n",
    "print(f\"HCF of {number1} and {number2}= {lcm}\")"
   ]
  },
  {
   "cell_type": "markdown",
   "id": "e9eb874c",
   "metadata": {},
   "source": [
    "**Write a program to accept any number n and print the cube of all numbers from 1 to n which are divisible by 3. Rewrite the program using a continue statement.**"
   ]
  },
  {
   "cell_type": "code",
   "execution_count": 6,
   "id": "40b91ecc",
   "metadata": {},
   "outputs": [
    {
     "name": "stdout",
     "output_type": "stream",
     "text": [
      "Enter the value of n: 10\n",
      "cube of all numbers from 1 to 10 which are divisible by 3 are:\n",
      "27\n",
      "216\n",
      "729\n"
     ]
    }
   ],
   "source": [
    "n=int(input(\"Enter the value of n: \"))\n",
    "print(f\"cube of all numbers from 1 to {n} which are divisible by 3 are:\")\n",
    "for i in range(1,n):\n",
    "    if(i%3!=0):\n",
    "        continue\n",
    "    print(i**3)"
   ]
  },
  {
   "cell_type": "markdown",
   "id": "a38e405b",
   "metadata": {},
   "source": [
    "**Write a program to read roll number and marks of 10 students in 3 subjects. The valid range for roll number is 1000-9999, if the roll number entered is not in this range, the user should be asked to enter again. Calculate total marks of only those students who get more than or equal to 40 marks in each subject. Count the number of students whose total is more than 200. Print the roll number of the students who gets the highest total**"
   ]
  },
  {
   "cell_type": "code",
   "execution_count": 2,
   "id": "df782708",
   "metadata": {},
   "outputs": [
    {
     "name": "stdout",
     "output_type": "stream",
     "text": [
      "Enter the roll no. and marks of 10 strudents respectively:\n",
      "Student 1:\n",
      "   Enter roll No.: 1001\n",
      "   Enter marks of:\n",
      "     DSA = 34\n",
      "     OOP = 56\n",
      "     WT = 76\n",
      "Student 2:\n",
      "   Enter roll No.: 1002\n",
      "   Enter marks of:\n",
      "     DSA = 46\n",
      "     OOP = 76\n",
      "     WT = 78\n",
      "Student 3:\n",
      "   Enter roll No.: 10003\n",
      "Roll no. range not valid. Enter again.\n",
      "Student 3:\n",
      "   Enter roll No.: 1003\n",
      "   Enter marks of:\n",
      "     DSA = 45\n",
      "     OOP = 61\n",
      "     WT = 73\n",
      "Student 4:\n",
      "   Enter roll No.: 1004\n",
      "   Enter marks of:\n",
      "     DSA = 67\n",
      "     OOP = 87\n",
      "     WT = 89\n",
      "Student 5:\n",
      "   Enter roll No.: 1005\n",
      "   Enter marks of:\n",
      "     DSA = 62\n",
      "     OOP = 79\n",
      "     WT = 93\n",
      "Student 6:\n",
      "   Enter roll No.: 1006\n",
      "   Enter marks of:\n",
      "     DSA = 82\n",
      "     OOP = 93\n",
      "     WT = 97\n",
      "Student 7:\n",
      "   Enter roll No.: 1007\n",
      "   Enter marks of:\n",
      "     DSA = 73\n",
      "     OOP = 86\n",
      "     WT = 93\n",
      "Student 8:\n",
      "   Enter roll No.: 1008\n",
      "   Enter marks of:\n",
      "     DSA = 77\n",
      "     OOP = 86\n",
      "     WT = 83\n",
      "Student 9:\n",
      "   Enter roll No.: 1009\n",
      "   Enter marks of:\n",
      "     DSA = 61\n",
      "     OOP = 81\n",
      "     WT = 85\n",
      "Student 10:\n",
      "   Enter roll No.: 1010\n",
      "   Enter marks of:\n",
      "     DSA = 23\n",
      "     OOP = 56\n",
      "     WT = 57\n",
      "\n",
      "\tRoll No.\tDSA\tOOP\tWT\tTotal\n",
      "\t1002\t\t46\t76\t78\t200\n",
      "\t1003\t\t45\t61\t73\t179\n",
      "\t1004\t\t67\t87\t89\t243\n",
      "\t1005\t\t62\t79\t93\t234\n",
      "\t1006\t\t82\t93\t97\t272\n",
      "\t1007\t\t73\t86\t93\t252\n",
      "\t1008\t\t77\t86\t83\t246\n",
      "\t1009\t\t61\t81\t85\t227\n",
      "\t1010\t\t23\t56\t57\t0\n"
     ]
    }
   ],
   "source": [
    "i=1\n",
    "print(\"Enter the roll no. and marks of 10 strudents respectively:\")\n",
    "roll=[]\n",
    "DSA=[]\n",
    "OOP=[]\n",
    "WT=[]\n",
    "total=[]\n",
    "while i<11:\n",
    "    print(f\"Student {i}:\")\n",
    "    r=int(input(\"   Enter roll No.: \"))\n",
    "    if(r<1000 or r>9999):\n",
    "        print(\"Roll no. range not valid. Enter again.\")\n",
    "        continue\n",
    "    print(\"   Enter marks of:\")\n",
    "    m1=int(input(\"     DSA = \"))\n",
    "    m2=int(input(\"     OOP = \"))\n",
    "    m3=int(input(\"     WT = \"))\n",
    "    roll.append(r)\n",
    "    DSA.append(m1)\n",
    "    OOP.append(m2)\n",
    "    WT.append(m3)\n",
    "    if(m1<40 or m2<40 or m3<40):\n",
    "        total.append(0)\n",
    "    else:\n",
    "        total.append(m1+m2+m3)\n",
    "    i+=1\n",
    "i=1\n",
    "print(\"\\n\\tRoll No.\\tDSA\\tOOP\\tWT\\tTotal\")\n",
    "while i<10:\n",
    "    print(f\"\\t{roll[i]}\\t\\t{DSA[i]}\\t{OOP[i]}\\t{WT[i]}\\t{total[i]}\")\n",
    "    i+=1"
   ]
  },
  {
   "cell_type": "markdown",
   "id": "2191f0d6",
   "metadata": {},
   "source": [
    "**Write a program to input a number and count the digits in it. Use while loop and the program should work correctly for 0 also**"
   ]
  },
  {
   "cell_type": "code",
   "execution_count": 14,
   "id": "6f68aecb",
   "metadata": {},
   "outputs": [
    {
     "name": "stdout",
     "output_type": "stream",
     "text": [
      "Enter a number to count no. of digits: 34\n",
      "No. of digits in 34 = 2\n"
     ]
    }
   ],
   "source": [
    "number=int(input(\"Enter a number to count no. of digits: \"))\n",
    "n=number\n",
    "c=0\n",
    "while True:\n",
    "    c+=1\n",
    "    n=int(n/10)\n",
    "    if(n==0):\n",
    "        break\n",
    "print(f\"No. of digits in {number} = {c}\")"
   ]
  },
  {
   "cell_type": "markdown",
   "id": "6f585e48",
   "metadata": {},
   "source": [
    "**Write a program to enter a number and find the reverse of that number. Also display the double of the reverse number. (don’t use string magic)**"
   ]
  },
  {
   "cell_type": "code",
   "execution_count": 16,
   "id": "c9664cda",
   "metadata": {},
   "outputs": [
    {
     "name": "stdout",
     "output_type": "stream",
     "text": [
      "Enter a no.: 34\n",
      "34\n",
      "Reverse of 34 = 43\n",
      "Double of 43 = 86\n"
     ]
    }
   ],
   "source": [
    "number=int(input(\"Enter a no.: \"))\n",
    "n=int(number)\n",
    "print(n)\n",
    "rev_number=0\n",
    "while n!=0:\n",
    "    rev_number=(rev_number*10)+(n%10)\n",
    "    n=int(n/10)\n",
    "print(f\"Reverse of {number} = {rev_number}\")\n",
    "print(f\"Double of {rev_number} = {rev_number*2}\")"
   ]
  }
 ],
 "metadata": {
  "kernelspec": {
   "display_name": "Python 3 (ipykernel)",
   "language": "python",
   "name": "python3"
  },
  "language_info": {
   "codemirror_mode": {
    "name": "ipython",
    "version": 3
   },
   "file_extension": ".py",
   "mimetype": "text/x-python",
   "name": "python",
   "nbconvert_exporter": "python",
   "pygments_lexer": "ipython3",
   "version": "3.10.9"
  }
 },
 "nbformat": 4,
 "nbformat_minor": 5
}
