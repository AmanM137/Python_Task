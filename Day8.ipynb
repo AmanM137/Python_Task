{
 "cells": [
  {
   "cell_type": "markdown",
   "id": "34d8ddcd",
   "metadata": {},
   "source": [
    "## Day-8 Task:"
   ]
  },
  {
   "cell_type": "markdown",
   "id": "4fc7ef6e",
   "metadata": {},
   "source": [
    "**What are the two values of the Boolean data type? How do you write them?**\n",
    "\n",
    "        It has two possible values: True and False, which are special versions of 1 and 0 respectively and behave as such in arithmetic contexts.\n",
    "        'True' and 'False' are written in title case."
   ]
  },
  {
   "cell_type": "markdown",
   "id": "1b1860b9",
   "metadata": {},
   "source": [
    "**What are the three Boolean operators?**\n",
    "\n",
    "        The three Boolean operators are:\n",
    "        1) AND\n",
    "        2) OR\n",
    "        3) NOT"
   ]
  },
  {
   "cell_type": "markdown",
   "id": "466a0ee4",
   "metadata": {},
   "source": [
    "**Write out the truth tables of each Boolean operator:**\n",
    "\n",
    "        Truth table of AND:\n",
    "           A   B   F\n",
    "           0   0   0\n",
    "           0   1   0\n",
    "           1   0   0\n",
    "           1   1   1\n",
    "           \n",
    "        Truth table of OR:\n",
    "           A   B   F\n",
    "           0   0   0\n",
    "           0   1   1\n",
    "           1   0   1\n",
    "           1   1   1\n",
    "        Truth table of NOT:\n",
    "             A   A'\n",
    "             0   1\n",
    "             1   0\n",
    "             0   1\n",
    "             1   0"
   ]
  },
  {
   "cell_type": "markdown",
   "id": "d991f435",
   "metadata": {},
   "source": [
    "**What do the following expressions evaluate to?**"
   ]
  },
  {
   "cell_type": "code",
   "execution_count": 4,
   "id": "77c17bad",
   "metadata": {},
   "outputs": [
    {
     "name": "stdout",
     "output_type": "stream",
     "text": [
      "(5 > 4) and (3 == 5) --> False\n",
      "not (5 > 4) --> False\n",
      "(5 > 4) or (3 == 5) --> True\n",
      "not ((5 > 4) or (3 == 5)) --> False\n",
      "(True and True) and (True == False) --> False\n",
      "(not False) or (not True) --> True\n"
     ]
    }
   ],
   "source": [
    "print(f\"(5 > 4) and (3 == 5) --> {(5 > 4) and (3 == 5)}\") \n",
    "print(f\"not (5 > 4) --> {not (5 > 4)}\") \n",
    "print(f\"(5 > 4) or (3 == 5) --> {(5 > 4) or (3 == 5)}\") \n",
    "print(f\"not ((5 > 4) or (3 == 5)) --> {not ((5 > 4) or (3 == 5))}\")\n",
    "print(f\"(True and True) and (True == False) --> {(True and True) and (True == False)}\") \n",
    "print(f\"(not False) or (not True) --> {(not False) or (not True)}\") "
   ]
  },
  {
   "cell_type": "markdown",
   "id": "c63468a6",
   "metadata": {},
   "source": [
    "**What are the six comparison operators?**\n",
    "\n",
    "        The six comparison operators are:\n",
    "        1) less than\n",
    "        2) greater than\n",
    "        3) less than or equal to\n",
    "        4) greater than or equal to\n",
    "        5) equal to\n",
    "        6) not equal to."
   ]
  },
  {
   "cell_type": "markdown",
   "id": "67fdc22c",
   "metadata": {},
   "source": [
    "**What is the difference between the equal to operator and the assignment operator?**\n",
    "\n",
    "        In programming = is an assignment operator, which means that it assigns a value to a variable.\n",
    "        The equality operator(==) is one of the many comparison operators used in logical and conditional statements. The equal to operator returns True or False."
   ]
  },
  {
   "cell_type": "markdown",
   "id": "aec8991f",
   "metadata": {},
   "source": [
    "**Explain what a condition is and where you would use one.**\n",
    "\n",
    "        Conditional statements or conditions are fundamental programming constructs that allow you to control the flow of your program based on conditions that you specify. They provide a way to make decisions in your program and execute different code based on those decisions.\n",
    "        Conditions are used in if-else statements, in switch case and in loops as an loop termination condition."
   ]
  },
  {
   "cell_type": "code",
   "execution_count": null,
   "id": "544b0343",
   "metadata": {},
   "outputs": [],
   "source": []
  }
 ],
 "metadata": {
  "kernelspec": {
   "display_name": "Python 3 (ipykernel)",
   "language": "python",
   "name": "python3"
  },
  "language_info": {
   "codemirror_mode": {
    "name": "ipython",
    "version": 3
   },
   "file_extension": ".py",
   "mimetype": "text/x-python",
   "name": "python",
   "nbconvert_exporter": "python",
   "pygments_lexer": "ipython3",
   "version": "3.10.9"
  }
 },
 "nbformat": 4,
 "nbformat_minor": 5
}
