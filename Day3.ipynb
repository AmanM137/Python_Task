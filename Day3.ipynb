{
 "cells": [
  {
   "cell_type": "markdown",
   "id": "811913fa",
   "metadata": {},
   "source": [
    "## Day-3 Task:"
   ]
  },
  {
   "cell_type": "markdown",
   "id": "22b044d7",
   "metadata": {},
   "source": [
    "**What are Data Structures? List some of data structures and their use in real world application?**\n",
    "\n",
    "        A data structure is a method of arranging data in order to make it more useful. It provides efficiency, reusability\n",
    "        and abstraction.\n",
    "        Some data structures are:\n",
    "        1) Arrays\n",
    "             An array gets used for storing data for mathematical computations, record management, and ordering boxes.\n",
    "             Besides, book pages are also examples of the application of data structures arrays.\n",
    "        2) Strings\n",
    "             Strings are used for spam email detection, plagiarism detection, digital forensics, search engine, information\n",
    "             retrieval system, and spell checkers.\n",
    "        3) Linked Lists\n",
    "             They can implement stacks, graphs, and queues. Besides, they are used to perform arithmetic operations on\n",
    "             longer integers. Representation of sparse matrices can also be done using linked lists.\n",
    "        4) Stack\n",
    "             Browsers also use stack data structures that monitor previously visited sites, also smartphone call logs uses\n",
    "             the stack data structure.\n",
    "        5) Queue\n",
    "             From handling website traffic to maintaining a playlist uses queue data structure. A real-world example of\n",
    "             queues is a single-lane one-way road. Another application of data structures for a queue is seen in queues at \n",
    "             ticket windows."
   ]
  },
  {
   "cell_type": "markdown",
   "id": "4f2af171",
   "metadata": {},
   "source": [
    "**Create a list data type and store names of your friends in it (at least 5), check out what are methods available in list data type, try to figure out their working using help function in python.**"
   ]
  },
  {
   "cell_type": "code",
   "execution_count": 2,
   "id": "e412cc5a",
   "metadata": {},
   "outputs": [
    {
     "data": {
      "text/plain": [
       "['__add__',\n",
       " '__class__',\n",
       " '__class_getitem__',\n",
       " '__contains__',\n",
       " '__delattr__',\n",
       " '__delitem__',\n",
       " '__dir__',\n",
       " '__doc__',\n",
       " '__eq__',\n",
       " '__format__',\n",
       " '__ge__',\n",
       " '__getattribute__',\n",
       " '__getitem__',\n",
       " '__gt__',\n",
       " '__hash__',\n",
       " '__iadd__',\n",
       " '__imul__',\n",
       " '__init__',\n",
       " '__init_subclass__',\n",
       " '__iter__',\n",
       " '__le__',\n",
       " '__len__',\n",
       " '__lt__',\n",
       " '__mul__',\n",
       " '__ne__',\n",
       " '__new__',\n",
       " '__reduce__',\n",
       " '__reduce_ex__',\n",
       " '__repr__',\n",
       " '__reversed__',\n",
       " '__rmul__',\n",
       " '__setattr__',\n",
       " '__setitem__',\n",
       " '__sizeof__',\n",
       " '__str__',\n",
       " '__subclasshook__',\n",
       " 'append',\n",
       " 'clear',\n",
       " 'copy',\n",
       " 'count',\n",
       " 'extend',\n",
       " 'index',\n",
       " 'insert',\n",
       " 'pop',\n",
       " 'remove',\n",
       " 'reverse',\n",
       " 'sort']"
      ]
     },
     "execution_count": 2,
     "metadata": {},
     "output_type": "execute_result"
    }
   ],
   "source": [
    "name=[\"Aman\",\"Ritesh\",\"Animit\",\"Ankur\",\"Somprakash\"]\n",
    "dir(name)"
   ]
  },
  {
   "cell_type": "code",
   "execution_count": 3,
   "id": "a0edd5ae",
   "metadata": {},
   "outputs": [
    {
     "name": "stdout",
     "output_type": "stream",
     "text": [
      "Help on built-in function append:\n",
      "\n",
      "append(object, /) method of builtins.list instance\n",
      "    Append object to the end of the list.\n",
      "\n",
      "Help on built-in function clear:\n",
      "\n",
      "clear() method of builtins.list instance\n",
      "    Remove all items from list.\n",
      "\n",
      "Help on built-in function copy:\n",
      "\n",
      "copy() method of builtins.list instance\n",
      "    Return a shallow copy of the list.\n",
      "\n",
      "Help on built-in function count:\n",
      "\n",
      "count(value, /) method of builtins.list instance\n",
      "    Return number of occurrences of value.\n",
      "\n",
      "Help on built-in function extend:\n",
      "\n",
      "extend(iterable, /) method of builtins.list instance\n",
      "    Extend list by appending elements from the iterable.\n",
      "\n",
      "Help on built-in function index:\n",
      "\n",
      "index(value, start=0, stop=9223372036854775807, /) method of builtins.list instance\n",
      "    Return first index of value.\n",
      "    \n",
      "    Raises ValueError if the value is not present.\n",
      "\n",
      "Help on built-in function insert:\n",
      "\n",
      "insert(index, object, /) method of builtins.list instance\n",
      "    Insert object before index.\n",
      "\n",
      "Help on built-in function pop:\n",
      "\n",
      "pop(index=-1, /) method of builtins.list instance\n",
      "    Remove and return item at index (default last).\n",
      "    \n",
      "    Raises IndexError if list is empty or index is out of range.\n",
      "\n",
      "Help on built-in function remove:\n",
      "\n",
      "remove(value, /) method of builtins.list instance\n",
      "    Remove first occurrence of value.\n",
      "    \n",
      "    Raises ValueError if the value is not present.\n",
      "\n",
      "Help on built-in function reverse:\n",
      "\n",
      "reverse() method of builtins.list instance\n",
      "    Reverse *IN PLACE*.\n",
      "\n",
      "Help on built-in function sort:\n",
      "\n",
      "sort(*, key=None, reverse=False) method of builtins.list instance\n",
      "    Sort the list in ascending order and return None.\n",
      "    \n",
      "    The sort is in-place (i.e. the list itself is modified) and stable (i.e. the\n",
      "    order of two equal elements is maintained).\n",
      "    \n",
      "    If a key function is given, apply it once to each list item and sort them,\n",
      "    ascending or descending, according to their function values.\n",
      "    \n",
      "    The reverse flag can be set to sort in descending order.\n",
      "\n"
     ]
    }
   ],
   "source": [
    "help(name.append)\n",
    "help(name.clear)\n",
    "help(name.copy)\n",
    "help(name.count)\n",
    "help(name.extend)\n",
    "help(name.index)\n",
    "help(name.insert)\n",
    "help(name.pop)\n",
    "help(name.remove)\n",
    "help(name.reverse)\n",
    "help(name.sort)"
   ]
  },
  {
   "cell_type": "markdown",
   "id": "4343953f",
   "metadata": {},
   "source": [
    "**What is difference between ordered data type and unordered data type?**\n",
    "\n",
    "        Ordered means that the data structure retains the ordering as provided by the programmer, it means that the items\n",
    "        have a defined order, and that order will not change. \n",
    "        Example of ordered data type is List. If you add new items to a list, the new items will be placed at the end of the \n",
    "        list.\n",
    "        \n",
    "        Non ordered means that the data structure doesn’t have a specific order, and doesn’t care about any ordering by the \n",
    "        programmer.\n",
    "        Example of unordered data type is Set."
   ]
  },
  {
   "cell_type": "markdown",
   "id": "a8cd2b35",
   "metadata": {},
   "source": [
    "**Write down types of each value given?**\n",
    " \n",
    "        a) 100 --> Integer\n",
    "        b) 105.5 --> Float\n",
    "        c) 192.56j --> Complex\n",
    "        d) 10+6j --> Complex\n",
    "        e) ‘10’ --> String\n",
    "        f) ‘Hello world’ --> String\n",
    "        g) [ 10, 20, 50, 100] --> List\n",
    "        h) {‘name’: ‘sachin’, ‘age’: 24, ‘language’: ‘python’} --> Disctionary"
   ]
  },
  {
   "cell_type": "code",
   "execution_count": 31,
   "id": "9b992ac5",
   "metadata": {},
   "outputs": [
    {
     "name": "stdout",
     "output_type": "stream",
     "text": [
      "Data Types of following values are:\n",
      "\t 100 --> <class 'int'>\n",
      "\t 105.5 --> <class 'float'>\n",
      "\t 192.56j --> <class 'float'>\n",
      "\t 10+6j --> <class 'complex'>\n",
      "\t '10' --> <class 'str'>\n",
      "\t 'Hello world' --> <class 'str'>\n",
      "\t [10, 20, 50, 100] --> <class 'list'>\n",
      "\t {'name':'sachin','age':24,'language':'python'} --> <class 'dict'>\n"
     ]
    }
   ],
   "source": [
    "print(\"Data Types of following values are:\")\n",
    "print(f\"\\t 100 --> {type(100)}\")\n",
    "print(f\"\\t 105.5 --> {type(105.5)}\")\n",
    "print(f\"\\t 192.56j --> {type(192.56)}\")\n",
    "print(f\"\\t 10+6j --> {type(10+6j)}\")\n",
    "print(f\"\\t '10' --> {type('10')}\")\n",
    "print(f\"\\t 'Hello world' --> {type('Hello world')}\")\n",
    "print(f\"\\t [10, 20, 50, 100] --> {type([10,20,50,100])}\")\n",
    "print(\"\\t {'name':'sachin','age':24,'language':'python'} -->\" + f\" {type({'name':'sachin','age':24,'language':'python'})}\")"
   ]
  },
  {
   "cell_type": "code",
   "execution_count": null,
   "id": "fe0447dc",
   "metadata": {},
   "outputs": [],
   "source": []
  }
 ],
 "metadata": {
  "kernelspec": {
   "display_name": "Python 3 (ipykernel)",
   "language": "python",
   "name": "python3"
  },
  "language_info": {
   "codemirror_mode": {
    "name": "ipython",
    "version": 3
   },
   "file_extension": ".py",
   "mimetype": "text/x-python",
   "name": "python",
   "nbconvert_exporter": "python",
   "pygments_lexer": "ipython3",
   "version": "3.10.9"
  }
 },
 "nbformat": 4,
 "nbformat_minor": 5
}
