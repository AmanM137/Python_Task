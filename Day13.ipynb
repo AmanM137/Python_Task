{
 "cells": [
  {
   "cell_type": "markdown",
   "id": "efd60252",
   "metadata": {},
   "source": [
    "## Day-13 Task:"
   ]
  },
  {
   "cell_type": "markdown",
   "id": "3b04060d",
   "metadata": {},
   "source": [
    "**Write a Python Code to count the Number of Each Vowel in a given string**"
   ]
  },
  {
   "cell_type": "code",
   "execution_count": 7,
   "id": "1163e7dc",
   "metadata": {},
   "outputs": [
    {
     "name": "stdout",
     "output_type": "stream",
     "text": [
      "Enter the string: Aman Singh\n",
      "The no. of each vowel in the string:\n",
      "'a' = 2\n",
      "'e' = 0\n",
      "'i' = 1\n",
      "'o' = 0\n",
      "'u' = 0\n"
     ]
    }
   ],
   "source": [
    "string=input(\"Enter the string: \")\n",
    "s=string.lower()\n",
    "l=['a','e','i','o','u']\n",
    "print(\"The no. of each vowel in the string:\")\n",
    "for i in range(5):\n",
    "    print(f\"\\'{l[i]}\\' = {s.count(l[i])}\")"
   ]
  },
  {
   "cell_type": "markdown",
   "id": "7da398c6",
   "metadata": {},
   "source": [
    "**Write a Python Code to count number of words, characters and number of spaces in a given stirng**"
   ]
  },
  {
   "cell_type": "code",
   "execution_count": 14,
   "id": "90c2e6c8",
   "metadata": {
    "scrolled": true
   },
   "outputs": [
    {
     "name": "stdout",
     "output_type": "stream",
     "text": [
      "Enter the string:  Aman Kumar  Singh \n",
      "No. of words = 6\n",
      "No. of characters = 14\n",
      "No. of spaces = 5\n"
     ]
    }
   ],
   "source": [
    "string=input(\"Enter the string: \")\n",
    "words=string.split(' ')\n",
    "print(f\"No. of words = {len(words)}\")\n",
    "n=0\n",
    "for i in range(len(words)):\n",
    "    n+=len(words[i])\n",
    "print(f\"No. of characters = {n}\")\n",
    "print(f\"No. of spaces = {string.count(' ')}\")"
   ]
  },
  {
   "cell_type": "markdown",
   "id": "c47ef2a6",
   "metadata": {},
   "source": [
    "**Write a Python Program to remove punctuation from a given string (using loop)**"
   ]
  },
  {
   "cell_type": "code",
   "execution_count": 44,
   "id": "cc1677d7",
   "metadata": {},
   "outputs": [
    {
     "name": "stdout",
     "output_type": "stream",
     "text": [
      "Enter the string: Hello!!!, he said ---and went.\n",
      "String without punctuations:\n",
      "\tHello he said and went.\n"
     ]
    }
   ],
   "source": [
    "punctuation=\"!()-[]{};:'\\\"\\,<>./?@#$%^&*_~\"\n",
    "string=input(\"Enter the string: \")\n",
    "l=len(string)\n",
    "i=0\n",
    "while i<len(string)-1:\n",
    "    if(punctuation.find(string[i])!=-1):\n",
    "        string=string[0:i]+string[i+1::]\n",
    "        i-=1\n",
    "    i+=1\n",
    "print(f\"String without punctuations:\\n\\t{string}\")"
   ]
  },
  {
   "cell_type": "markdown",
   "id": "37a03936",
   "metadata": {},
   "source": [
    "**Write a Python Program to take a mxn matrix input from user and stored in nested list**"
   ]
  },
  {
   "cell_type": "code",
   "execution_count": 52,
   "id": "5d0dffeb",
   "metadata": {},
   "outputs": [
    {
     "name": "stdout",
     "output_type": "stream",
     "text": [
      "Enter the size of MxN matrix: \n",
      "M = 2\n",
      "N = 3\n",
      "Enter the entries rowwise:\n",
      "1\n",
      "2\n",
      "3\n",
      "4\n",
      "5\n",
      "6\n",
      "\n",
      "Matrix: \n",
      "        1 2 3 \n",
      "        4 5 6 \n"
     ]
    }
   ],
   "source": [
    "print(\"Enter the size of MxN matrix: \")\n",
    "m=int(input(\"M = \"))\n",
    "n=int(input(\"N = \"))\n",
    "matrix=[]\n",
    "print(\"Enter the entries rowwise:\")\n",
    "for i in range(m):\n",
    "    a=[]\n",
    "    for j in range(n):\n",
    "        a.append(int(input()))\n",
    "    matrix.append(a)\n",
    "print(\"\\nMatrix: \")\n",
    "for i in range(m):\n",
    "    print(\"       \",end=\" \")\n",
    "    for j in range(n):\n",
    "        print(matrix[i][j],end=\" \")\n",
    "    print()"
   ]
  },
  {
   "cell_type": "markdown",
   "id": "62600b44",
   "metadata": {},
   "source": [
    "**Write a Python Program to add, multiply and transpose two matrices given by user**"
   ]
  },
  {
   "cell_type": "code",
   "execution_count": 63,
   "id": "430c1d4a",
   "metadata": {},
   "outputs": [
    {
     "name": "stdout",
     "output_type": "stream",
     "text": [
      "Enter the size of two matrices of MxN order....\n",
      "\tM = 3\n",
      "\tN = 3\n",
      "Enter the entries of first matrix rowwise:\n",
      "5\n",
      "4\n",
      "3\n",
      "2\n",
      "4\n",
      "6\n",
      "4\n",
      "7\n",
      "9\n",
      "Enter the entries of second matrix rowwise:\n",
      "3\n",
      "2\n",
      "4\n",
      "4\n",
      "3\n",
      "6\n",
      "2\n",
      "7\n",
      "5\n",
      "\n",
      "Matrix-1: \n",
      "        5 4 3 \n",
      "        2 4 6 \n",
      "        4 7 9 \n",
      "\n",
      "Matrix-2: \n",
      "        3 2 4 \n",
      "        4 3 6 \n",
      "        2 7 5 \n",
      "\n",
      "Sum of two matrix: \n",
      "          8   6   7 \n",
      "          6   7  12 \n",
      "          6  14  14 \n",
      "\n",
      "Multiplication of two matrix: \n",
      "          37   43   59 \n",
      "          34   58   62 \n",
      "          58   92  103 \n",
      "\n",
      "Transpose of Matrix-1: \n",
      "         5  2  4 \n",
      "         4  4  7 \n",
      "         3  6  9 \n",
      "\n",
      "Transpose of Matrix-2: \n",
      "         5  2  4 \n",
      "         4  4  7 \n",
      "         3  6  9 \n"
     ]
    }
   ],
   "source": [
    "print(\"Enter the size of two matrices of MxN order....\")\n",
    "m=int(input(\"\\tM = \"))\n",
    "n=int(input(\"\\tN = \"))\n",
    "matrix1=[]\n",
    "print(\"Enter the entries of first matrix rowwise:\")\n",
    "for i in range(m):\n",
    "    a=[]\n",
    "    for j in range(n):\n",
    "        a.append(int(input()))\n",
    "    matrix1.append(a)\n",
    "matrix2=[]\n",
    "print(\"Enter the entries of second matrix rowwise:\")\n",
    "for i in range(m):\n",
    "    a=[]\n",
    "    for j in range(n):\n",
    "        a.append(int(input()))\n",
    "    matrix2.append(a)\n",
    "\n",
    "print(\"\\nMatrix-1: \")\n",
    "for i in range(m):\n",
    "    print(\"       \",end=\" \")\n",
    "    for j in range(n):\n",
    "        print(matrix1[i][j],end=\" \")\n",
    "    print()\n",
    "    \n",
    "print(\"\\nMatrix-2: \")\n",
    "for i in range(m):\n",
    "    print(\"       \",end=\" \")\n",
    "    for j in range(n):\n",
    "        print(matrix2[i][j],end=\" \")\n",
    "    print()\n",
    "    \n",
    "results=[]\n",
    "for i in range(m):\n",
    "    a=[]\n",
    "    for j in range(n):\n",
    "        a.append(matrix1[i][j]+matrix2[i][j])\n",
    "    results.append(a)\n",
    "print(\"\\nSum of two matrix: \")\n",
    "for i in range(m):\n",
    "    print(\"       \",end=\" \")\n",
    "    for j in range(n):\n",
    "        print(f\"{results[i][j]:>3}\",end=\" \")\n",
    "    print()\n",
    "    \n",
    "resultm=[]\n",
    "for i in range(len(matrix1)):\n",
    "    a=[]\n",
    "    for j in range(len(matrix2[0])):\n",
    "        c=0\n",
    "        for k in range(len(matrix2)):\n",
    "            c+= matrix1[i][k] * matrix2[k][j]\n",
    "        a.append(c)\n",
    "    resultm.append(a)\n",
    "print(\"\\nMultiplication of two matrix: \")\n",
    "for i in range(m):\n",
    "    print(\"       \",end=\" \")\n",
    "    for j in range(n):\n",
    "        print(f\"{resultm[i][j]:>4}\",end=\" \")\n",
    "    print()   \n",
    "\n",
    "resultt1=[]\n",
    "for i in range(m):\n",
    "    a=[]\n",
    "    for j in range(n):\n",
    "        a.append(matrix1[j][i])\n",
    "    resultt1.append(a)\n",
    "resultt2=[]\n",
    "for i in range(m):\n",
    "    a=[]\n",
    "    for j in range(n):\n",
    "        a.append(matrix1[j][i])\n",
    "    resultt2.append(a)\n",
    "print(\"\\nTranspose of Matrix-1: \")\n",
    "for i in range(m):\n",
    "    print(\"       \",end=\" \")\n",
    "    for j in range(n):\n",
    "        print(f\"{resultt1[i][j]:>2}\",end=\" \")\n",
    "    print()   \n",
    "print(\"\\nTranspose of Matrix-2: \")\n",
    "for i in range(m):\n",
    "    print(\"       \",end=\" \")\n",
    "    for j in range(n):\n",
    "        print(f\"{resultt2[i][j]:>2}\",end=\" \")\n",
    "    print()   "
   ]
  },
  {
   "cell_type": "code",
   "execution_count": null,
   "id": "7a68380d",
   "metadata": {},
   "outputs": [],
   "source": []
  }
 ],
 "metadata": {
  "kernelspec": {
   "display_name": "Python 3 (ipykernel)",
   "language": "python",
   "name": "python3"
  },
  "language_info": {
   "codemirror_mode": {
    "name": "ipython",
    "version": 3
   },
   "file_extension": ".py",
   "mimetype": "text/x-python",
   "name": "python",
   "nbconvert_exporter": "python",
   "pygments_lexer": "ipython3",
   "version": "3.10.9"
  }
 },
 "nbformat": 4,
 "nbformat_minor": 5
}
